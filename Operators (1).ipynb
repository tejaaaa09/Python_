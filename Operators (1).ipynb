{
 "cells": [
  {
   "cell_type": "markdown",
   "id": "a4b9e2b2-edef-4810-b498-11a283fa8d49",
   "metadata": {},
   "source": [
    "# 1)Explain about operators"
   ]
  },
  {
   "cell_type": "markdown",
   "id": "18c40d1e-c551-4e83-b4dd-f61b12afe27d",
   "metadata": {},
   "source": [
    "Operators in general are used to perform operations on values and variables. These are standard symbols used for logical and arithmetic operations. In this article, we will look into different types of Python operators. \n",
    "* OPERATORS: These are the special symbols. Eg- + , * , /, etc.\n",
    "* OPERAND: It is the value on which the operator is applied.\n",
    "## Types of Operators in Python\n",
    "* Arithmetic Operators\n",
    "* Comparison Operators\n",
    "* Logical Operators\n",
    "* Bitwise Operators\n",
    "* Assignment Operators\n",
    "* Identity Operators and Membership Operators"
   ]
  },
  {
   "cell_type": "markdown",
   "id": "ea78d1f1-144a-4f0b-8fbe-47eb07a9e60a",
   "metadata": {},
   "source": [
    "# 2) Arithmetic operators:\n",
    "They are used to perform basic mathematical operations. Here are many arithmetic operators. It includes the exponent (**) operator as well as the + (addition), - (subtraction), * (multiplication), / (divide), % (reminder), and // (floor division) operators."
   ]
  },
  {
   "cell_type": "code",
   "execution_count": 133,
   "id": "a6964f8f-7e44-482f-aed8-e4f822b2a726",
   "metadata": {},
   "outputs": [
    {
     "name": "stdout",
     "output_type": "stream",
     "text": [
      "15.5\n",
      "(1+7j)\n",
      "(0.6418918918918919+0.8986486486486487j)\n",
      "(0.8333333333333334-1.1666666666666667j)\n",
      "(30-42j)\n",
      "(-77277.17221313692+3950.7021053184676j)\n",
      "(-698435357.3275758-290844130.97836906j)\n"
     ]
    }
   ],
   "source": [
    "a = 6\n",
    "b = a \n",
    "c = 5\n",
    "d, e = 9.5, 5-7j\n",
    "print(a + d - d * c / d % a // b ** a)\n",
    "print(b - e) #int-complex\n",
    "print(d / e) #float/complex\n",
    "print(e / b) #complex/int\n",
    "print(a * e) #int*complex\n",
    "print(d ** e) #float**complex\n",
    "print(e **d) #complex**float"
   ]
  },
  {
   "cell_type": "code",
   "execution_count": 121,
   "id": "f263107b-7aa5-48ff-91c1-c0cd2a67b249",
   "metadata": {},
   "outputs": [
    {
     "ename": "TypeError",
     "evalue": "unsupported operand type(s) for //: 'complex' and 'int'",
     "output_type": "error",
     "traceback": [
      "\u001b[1;31m---------------------------------------------------------------------------\u001b[0m",
      "\u001b[1;31mTypeError\u001b[0m                                 Traceback (most recent call last)",
      "Cell \u001b[1;32mIn[121], line 1\u001b[0m\n\u001b[1;32m----> 1\u001b[0m \u001b[38;5;28mprint\u001b[39m(e \u001b[38;5;241m/\u001b[39m\u001b[38;5;241m/\u001b[39m b)\n",
      "\u001b[1;31mTypeError\u001b[0m: unsupported operand type(s) for //: 'complex' and 'int'"
     ]
    }
   ],
   "source": [
    "print(e // b)"
   ]
  },
  {
   "cell_type": "code",
   "execution_count": 127,
   "id": "c21638c8-1cb8-4d25-a4e8-298a2b5f7867",
   "metadata": {},
   "outputs": [
    {
     "ename": "TypeError",
     "evalue": "unsupported operand type(s) for %: 'float' and 'complex'",
     "output_type": "error",
     "traceback": [
      "\u001b[1;31m---------------------------------------------------------------------------\u001b[0m",
      "\u001b[1;31mTypeError\u001b[0m                                 Traceback (most recent call last)",
      "Cell \u001b[1;32mIn[127], line 1\u001b[0m\n\u001b[1;32m----> 1\u001b[0m \u001b[38;5;28mprint\u001b[39m(d \u001b[38;5;241m%\u001b[39m e)\n",
      "\u001b[1;31mTypeError\u001b[0m: unsupported operand type(s) for %: 'float' and 'complex'"
     ]
    }
   ],
   "source": [
    "print(d % e) "
   ]
  },
  {
   "cell_type": "code",
   "execution_count": 129,
   "id": "d156882e-2d31-4bf9-9dd3-d7824bceb8ca",
   "metadata": {},
   "outputs": [
    {
     "ename": "TypeError",
     "evalue": "unsupported operand type(s) for //: 'float' and 'complex'",
     "output_type": "error",
     "traceback": [
      "\u001b[1;31m---------------------------------------------------------------------------\u001b[0m",
      "\u001b[1;31mTypeError\u001b[0m                                 Traceback (most recent call last)",
      "Cell \u001b[1;32mIn[129], line 1\u001b[0m\n\u001b[1;32m----> 1\u001b[0m \u001b[38;5;28mprint\u001b[39m(d \u001b[38;5;241m/\u001b[39m\u001b[38;5;241m/\u001b[39m e)\n",
      "\u001b[1;31mTypeError\u001b[0m: unsupported operand type(s) for //: 'float' and 'complex'"
     ]
    }
   ],
   "source": [
    "print(d // e)"
   ]
  },
  {
   "cell_type": "code",
   "execution_count": 125,
   "id": "007b7fc5-cf47-4302-8373-1f60451f4a26",
   "metadata": {},
   "outputs": [
    {
     "ename": "TypeError",
     "evalue": "unsupported operand type(s) for //: 'complex' and 'int'",
     "output_type": "error",
     "traceback": [
      "\u001b[1;31m---------------------------------------------------------------------------\u001b[0m",
      "\u001b[1;31mTypeError\u001b[0m                                 Traceback (most recent call last)",
      "Cell \u001b[1;32mIn[125], line 1\u001b[0m\n\u001b[1;32m----> 1\u001b[0m \u001b[38;5;28mprint\u001b[39m(e \u001b[38;5;241m/\u001b[39m\u001b[38;5;241m/\u001b[39m a)\n",
      "\u001b[1;31mTypeError\u001b[0m: unsupported operand type(s) for //: 'complex' and 'int'"
     ]
    }
   ],
   "source": [
    "print(e // a)"
   ]
  },
  {
   "cell_type": "markdown",
   "id": "f8474bcb-1b4d-42af-b52f-1da25acb3700",
   "metadata": {},
   "source": [
    "# 3) Comparison operators: \n",
    "They are mainly used for comparison purposes. Comparison operators compare the values of the two operands and return a true or false Boolean value in accordance. The example of comparison operators are ==, !=, <=, >=, >, <. "
   ]
  },
  {
   "cell_type": "code",
   "execution_count": 159,
   "id": "52ae831a-e373-49de-afc6-b3a0db26289e",
   "metadata": {},
   "outputs": [
    {
     "name": "stdout",
     "output_type": "stream",
     "text": [
      "False\n",
      "False\n",
      "True\n",
      "True\n",
      "True\n",
      "False\n"
     ]
    }
   ],
   "source": [
    "a, b , c, d, e = 5.5, 8, 59, 9+0j, 8-4j\n",
    "print(b==d) #int==int\n",
    "print(d==b) #complex==int\n",
    "print(e!=a) #complex!=float\n",
    "print(c>=a) #int>=float\n",
    "print(b>a) #float>=int\n",
    "print(d==e) #complex==complex"
   ]
  },
  {
   "cell_type": "code",
   "execution_count": 157,
   "id": "c2146e55-7df5-49f1-b991-39742e2fabf5",
   "metadata": {},
   "outputs": [
    {
     "ename": "TypeError",
     "evalue": "'<' not supported between instances of 'complex' and 'float'",
     "output_type": "error",
     "traceback": [
      "\u001b[1;31m---------------------------------------------------------------------------\u001b[0m",
      "\u001b[1;31mTypeError\u001b[0m                                 Traceback (most recent call last)",
      "Cell \u001b[1;32mIn[157], line 1\u001b[0m\n\u001b[1;32m----> 1\u001b[0m \u001b[38;5;28mprint\u001b[39m(e\u001b[38;5;241m<\u001b[39ma)\n",
      "\u001b[1;31mTypeError\u001b[0m: '<' not supported between instances of 'complex' and 'float'"
     ]
    }
   ],
   "source": [
    "print(e<a) #complex<float"
   ]
  },
  {
   "cell_type": "code",
   "execution_count": 163,
   "id": "9b87229e-6d6b-4143-9cdd-e425733d9529",
   "metadata": {},
   "outputs": [
    {
     "ename": "TypeError",
     "evalue": "'>=' not supported between instances of 'complex' and 'int'",
     "output_type": "error",
     "traceback": [
      "\u001b[1;31m---------------------------------------------------------------------------\u001b[0m",
      "\u001b[1;31mTypeError\u001b[0m                                 Traceback (most recent call last)",
      "Cell \u001b[1;32mIn[163], line 1\u001b[0m\n\u001b[1;32m----> 1\u001b[0m \u001b[38;5;28mprint\u001b[39m(d\u001b[38;5;241m>\u001b[39m\u001b[38;5;241m=\u001b[39mb)\n",
      "\u001b[1;31mTypeError\u001b[0m: '>=' not supported between instances of 'complex' and 'int'"
     ]
    }
   ],
   "source": [
    "print(d>=b) #complex>=int"
   ]
  },
  {
   "cell_type": "markdown",
   "id": "8449d4c0-5407-49aa-877a-083df373dfd3",
   "metadata": {},
   "source": [
    "# 4)assignment operators:\n",
    "The right expression's value is assigned to the left operand. There are some examples of assignment operators like =, +=, -=, *=, %=, **=, //=."
   ]
  },
  {
   "cell_type": "code",
   "execution_count": 244,
   "id": "e3567915-b0d4-484a-9454-d692f2503bfc",
   "metadata": {},
   "outputs": [
    {
     "name": "stdout",
     "output_type": "stream",
     "text": [
      "5.0\n",
      "(611+19.5j)\n",
      "(94+3j)\n",
      "(0.7692307692307693+1.0769230769230769j)\n",
      "(-1.3306576330060949e+63-4.853765993846953e+63j)\n"
     ]
    }
   ],
   "source": [
    "a,b, c, d, e = (5 ,6.5, 99+3j, 5+7j, 4.4+0j)\n",
    "d /= b #complex/=float\n",
    "e **= c #complex**=complex\n",
    "a %= b #int%=float\n",
    "c -= a #complex-=int\n",
    "b *= c #float*=complex\n",
    "print(a)\n",
    "print(b)\n",
    "print(c)\n",
    "print(d)\n",
    "print(e)"
   ]
  },
  {
   "cell_type": "code",
   "execution_count": 264,
   "id": "449d2ebc-b36b-4914-83a2-feb3a3a9960d",
   "metadata": {},
   "outputs": [
    {
     "name": "stdout",
     "output_type": "stream",
     "text": [
      "(638+19.5j)\n",
      "(-3.782981921782292e+22+5.890752659812445e+22j)\n",
      "(2.230769230769231-1.0769230769230769j)\n"
     ]
    }
   ],
   "source": [
    "a =3\n",
    "b += a\n",
    "a -= d\n",
    "c **= a\n",
    "print(b)\n",
    "print(c)\n",
    "print(a) "
   ]
  },
  {
   "cell_type": "code",
   "execution_count": 262,
   "id": "243cd331-cfc3-4a30-83e5-901373a6f9a6",
   "metadata": {},
   "outputs": [
    {
     "ename": "TypeError",
     "evalue": "unsupported operand type(s) for //=: 'complex' and 'complex'",
     "output_type": "error",
     "traceback": [
      "\u001b[1;31m---------------------------------------------------------------------------\u001b[0m",
      "\u001b[1;31mTypeError\u001b[0m                                 Traceback (most recent call last)",
      "Cell \u001b[1;32mIn[262], line 1\u001b[0m\n\u001b[1;32m----> 1\u001b[0m e \u001b[38;5;241m/\u001b[39m\u001b[38;5;241m/\u001b[39m\u001b[38;5;241m=\u001b[39m a\n",
      "\u001b[1;31mTypeError\u001b[0m: unsupported operand type(s) for //=: 'complex' and 'complex'"
     ]
    }
   ],
   "source": [
    "e //= a"
   ]
  },
  {
   "cell_type": "markdown",
   "id": "ae96dc2c-91b1-4083-b972-9a285a8ea92b",
   "metadata": {},
   "source": [
    "# 5) Logical Operators\n",
    "logical operators are used to combine conditional statements, allowing you to perform operations based on multiple conditions. Logical operators perform Logical AND, Logical OR, and Logical NOT operations.\n",
    "* and : Returns True if both the operands are true.\n",
    "* or : Returns True if either of the operands is true.\n",
    "* not : Returns True if the operand is false."
   ]
  },
  {
   "cell_type": "code",
   "execution_count": 19,
   "id": "b5f952db-2d13-4512-9c4a-e38733be81f5",
   "metadata": {},
   "outputs": [
    {
     "name": "stdout",
     "output_type": "stream",
     "text": [
      "False\n",
      "True\n",
      "False\n"
     ]
    }
   ],
   "source": [
    "a = 7\n",
    "b = 4.5\n",
    "c = 72-4j\n",
    "print(a<b and b==c)\n",
    "print( b!=c or b<a)\n",
    "print(not(a==c or a>b))"
   ]
  },
  {
   "cell_type": "code",
   "execution_count": 11,
   "id": "0c19d4e5-77a0-47ed-8745-50ab33f1cfc6",
   "metadata": {},
   "outputs": [
    {
     "name": "stdout",
     "output_type": "stream",
     "text": [
      "True\n",
      "True\n",
      "False\n"
     ]
    }
   ],
   "source": [
    "t = 9.39999\n",
    "o = 20938\n",
    "u = 0+0j\n",
    "print(t==o or t>0)\n",
    "print(t<o or u<=u)\n",
    "print(not(o!=t and t>=t))"
   ]
  },
  {
   "cell_type": "markdown",
   "id": "79c7b69a-26ab-427e-a9a2-d2bcc0b7d555",
   "metadata": {},
   "source": [
    "# 6)Bitwise Operators\n",
    "Python bitwise operators are used to perform bitwise calculations on integers. The integers are first converted into binary and then operations are performed on each bit or corresponding pair of bits. The result is then returned in decimal format.\n",
    "* & :  Result bit 1, if both operand bits are 1; otherwise results bit 0.\n",
    "* | : Result bit 1, if any of the operand bit is 1; otherwise results bit 0.\n",
    "* ^ : Result bit 1, if any of the operand bit is 1 but not both, otherwise results bit 0.\n",
    "* ~ : Inverts individual bits.\n",
    "* right shift : The left operand’s value is moved toward right by the number of bits \r\n",
    "specified by the right operan\n",
    "* << : The left operand’s value is moved toward left by the number of bits \r\n",
    "specified by the right operand.d."
   ]
  },
  {
   "cell_type": "code",
   "execution_count": 21,
   "id": "b267fada-ea87-4418-940b-fcdcc1773259",
   "metadata": {},
   "outputs": [
    {
     "name": "stdout",
     "output_type": "stream",
     "text": [
      "64\n"
     ]
    }
   ],
   "source": [
    "print(76 & 67)"
   ]
  },
  {
   "cell_type": "code",
   "execution_count": 27,
   "id": "ef6b5cbb-ae5e-4cb6-9f7a-cab24456f9ff",
   "metadata": {},
   "outputs": [
    {
     "name": "stdout",
     "output_type": "stream",
     "text": [
      "6\n"
     ]
    }
   ],
   "source": [
    "print(6 & 7)"
   ]
  },
  {
   "cell_type": "code",
   "execution_count": 64,
   "id": "d051fc1e-104e-4bff-b756-ca00317878dd",
   "metadata": {},
   "outputs": [
    {
     "name": "stdout",
     "output_type": "stream",
     "text": [
      "7\n"
     ]
    }
   ],
   "source": [
    "print(7 | 6)"
   ]
  },
  {
   "cell_type": "code",
   "execution_count": 33,
   "id": "f756dc5a-735d-4ff6-a40e-e6d6e8b3c950",
   "metadata": {},
   "outputs": [
    {
     "name": "stdout",
     "output_type": "stream",
     "text": [
      "131\n"
     ]
    }
   ],
   "source": [
    "print(1223 & 8867)"
   ]
  },
  {
   "cell_type": "code",
   "execution_count": 3,
   "id": "b446d6b9-0ab6-49d7-83ce-97613fd5b8c5",
   "metadata": {},
   "outputs": [
    {
     "name": "stdout",
     "output_type": "stream",
     "text": [
      "768\n"
     ]
    }
   ],
   "source": [
    "print(3 << 8)"
   ]
  },
  {
   "cell_type": "code",
   "execution_count": 41,
   "id": "25d36727-2434-4c98-a509-1fb4adf3d2a0",
   "metadata": {},
   "outputs": [
    {
     "name": "stdout",
     "output_type": "stream",
     "text": [
      "127\n"
     ]
    }
   ],
   "source": [
    "print( 44 | 95)"
   ]
  },
  {
   "cell_type": "code",
   "execution_count": 49,
   "id": "b3b83086-fb29-493b-8b57-55818357f765",
   "metadata": {},
   "outputs": [
    {
     "name": "stdout",
     "output_type": "stream",
     "text": [
      "3\n"
     ]
    }
   ],
   "source": [
    "print(5^6)"
   ]
  },
  {
   "cell_type": "code",
   "execution_count": 54,
   "id": "28a2fa7a-7e09-4b21-a6af-fb6bb9814615",
   "metadata": {},
   "outputs": [
    {
     "name": "stdout",
     "output_type": "stream",
     "text": [
      "449\n"
     ]
    }
   ],
   "source": [
    "print(8^457)"
   ]
  },
  {
   "cell_type": "code",
   "execution_count": 56,
   "id": "f2088d8b-2b7f-43e8-b188-0b1df4eb4868",
   "metadata": {},
   "outputs": [
    {
     "name": "stdout",
     "output_type": "stream",
     "text": [
      "4\n"
     ]
    }
   ],
   "source": [
    "print(8>>1)"
   ]
  },
  {
   "cell_type": "code",
   "execution_count": 68,
   "id": "cbfcd007-e1fa-4948-a656-400f17c8ee93",
   "metadata": {},
   "outputs": [
    {
     "name": "stdout",
     "output_type": "stream",
     "text": [
      "4\n"
     ]
    }
   ],
   "source": [
    "print(1<<2)"
   ]
  },
  {
   "cell_type": "code",
   "execution_count": 70,
   "id": "230bca0a-e418-48b6-81c5-898f8a956104",
   "metadata": {},
   "outputs": [
    {
     "name": "stdout",
     "output_type": "stream",
     "text": [
      "False\n"
     ]
    }
   ],
   "source": [
    "print(1>2 and 2<3)"
   ]
  },
  {
   "cell_type": "markdown",
   "id": "ec476cbb-8b9c-4087-8723-4c66e26871f2",
   "metadata": {},
   "source": [
    "# 7) Membership Operators\n",
    "an object in a sequence, such as strings, lists, or tuples.\n",
    "* in Operator : Returns True if the value exists in a sequence, else returns False.\n",
    "* not in Operator : Returns False if the value exists in a sequence, else returns True."
   ]
  },
  {
   "cell_type": "code",
   "execution_count": 95,
   "id": "f2d4a232-9c28-4380-aeaa-57bc32fd319c",
   "metadata": {},
   "outputs": [
    {
     "name": "stdout",
     "output_type": "stream",
     "text": [
      "False\n"
     ]
    }
   ],
   "source": [
    "z = \"sequence\"\n",
    "print(\"S\" in z)"
   ]
  },
  {
   "cell_type": "code",
   "execution_count": 97,
   "id": "27dae9f5-e212-4da8-ae9b-710c1e14b5a9",
   "metadata": {},
   "outputs": [
    {
     "name": "stdout",
     "output_type": "stream",
     "text": [
      "True\n"
     ]
    }
   ],
   "source": [
    "print(\"nm\" not in z)"
   ]
  },
  {
   "cell_type": "code",
   "execution_count": 103,
   "id": "d70b822c-671d-4bba-ad21-792306026bc0",
   "metadata": {},
   "outputs": [
    {
     "name": "stdout",
     "output_type": "stream",
     "text": [
      "False\n"
     ]
    }
   ],
   "source": [
    "print(\"qe\" in z)"
   ]
  },
  {
   "cell_type": "code",
   "execution_count": 101,
   "id": "61563ee6-a6ad-40cc-b42a-749a0ea6cc83",
   "metadata": {},
   "outputs": [
    {
     "name": "stdout",
     "output_type": "stream",
     "text": [
      "True\n"
     ]
    }
   ],
   "source": [
    "print(\"se\" in z)"
   ]
  },
  {
   "cell_type": "code",
   "execution_count": 105,
   "id": "37219e43-c7f3-4cab-8f44-f7d1ab451d56",
   "metadata": {},
   "outputs": [
    {
     "name": "stdout",
     "output_type": "stream",
     "text": [
      "False\n"
     ]
    }
   ],
   "source": [
    "print(\"nce\" not in z)"
   ]
  },
  {
   "cell_type": "code",
   "execution_count": 107,
   "id": "948ea727-fd12-4d43-a1f3-c4a690986c13",
   "metadata": {},
   "outputs": [
    {
     "name": "stdout",
     "output_type": "stream",
     "text": [
      "True\n"
     ]
    }
   ],
   "source": [
    "print(\"nce\" in z)"
   ]
  },
  {
   "cell_type": "markdown",
   "id": "b23b1b34-07a2-4750-876c-070463e93186",
   "metadata": {},
   "source": [
    "# 8) Identity Operators\n",
    "Identity Operators are used to compare the objects if both the objects are actually of the same data type and share the same memory location\n",
    "* Is Operator: Returns True if both objects refers to same memory location, else returns False.\n",
    "* Is not Operator: Returns False if both object refers to same memory location, else returns True."
   ]
  },
  {
   "cell_type": "code",
   "execution_count": 116,
   "id": "7546bc23-ca53-423a-8c58-80fbbd84070e",
   "metadata": {},
   "outputs": [
    {
     "name": "stdout",
     "output_type": "stream",
     "text": [
      "False\n"
     ]
    }
   ],
   "source": [
    "c = 78\n",
    "u = 76\n",
    "print(c is u)"
   ]
  },
  {
   "cell_type": "code",
   "execution_count": 118,
   "id": "90a7d623-56fa-4c49-83dd-0f95ce0e2edf",
   "metadata": {},
   "outputs": [
    {
     "name": "stdout",
     "output_type": "stream",
     "text": [
      "True\n"
     ]
    }
   ],
   "source": [
    "print(c is not u)"
   ]
  },
  {
   "cell_type": "code",
   "execution_count": 120,
   "id": "4f5f2219-09ba-4598-8611-282b7402cbec",
   "metadata": {},
   "outputs": [
    {
     "name": "stdout",
     "output_type": "stream",
     "text": [
      "True\n"
     ]
    }
   ],
   "source": [
    "t = y = 8\n",
    "print(t is y)"
   ]
  },
  {
   "cell_type": "code",
   "execution_count": 122,
   "id": "e6f33904-caf5-4a53-9e9b-1c88c266d114",
   "metadata": {},
   "outputs": [
    {
     "name": "stdout",
     "output_type": "stream",
     "text": [
      "False\n"
     ]
    }
   ],
   "source": [
    "print(t is not y)"
   ]
  },
  {
   "cell_type": "markdown",
   "id": "f0ac3d46-bf76-4335-93f6-3257b570bab8",
   "metadata": {},
   "source": [
    "ht"
   ]
  },
  {
   "cell_type": "markdown",
   "id": "0163a11c-a2e6-4374-8ce0-00c2d5b26fdb",
   "metadata": {},
   "source": [
    "# 9)Precedence Rule:\n",
    "* () : parenthesis\n",
    "* ** : exponent\n",
    "* +x, -x, ~x : unary plus, unary minus, bitwise not\n",
    "* *,/,//,% : multipilication, division, floor divsion, Modulo\n",
    "* +,- : addition, subtraction\n",
    "* << >> bitwise left shift , bitwise right shift\n",
    "* & : bitwise and\n",
    "* ^ :  bitwise xor\n",
    "* | : bitwise Or"
   ]
  },
  {
   "cell_type": "code",
   "execution_count": 13,
   "id": "c8644ab4-315a-4254-9481-d716dd9fe5d7",
   "metadata": {},
   "outputs": [
    {
     "data": {
      "text/plain": [
       "12"
      ]
     },
     "execution_count": 13,
     "metadata": {},
     "output_type": "execute_result"
    }
   ],
   "source": [
    "5 + 4 ** 3 // 9"
   ]
  },
  {
   "cell_type": "code",
   "execution_count": 17,
   "id": "021a2bb8-e785-42e2-832a-cd568fce309e",
   "metadata": {},
   "outputs": [
    {
     "data": {
      "text/plain": [
       "True"
      ]
     },
     "execution_count": 17,
     "metadata": {},
     "output_type": "execute_result"
    }
   ],
   "source": [
    "7**3 & 5>=3"
   ]
  },
  {
   "cell_type": "code",
   "execution_count": 21,
   "id": "6410f360-65e6-46e7-a88d-93a24d3b207c",
   "metadata": {},
   "outputs": [
    {
     "data": {
      "text/plain": [
       "False"
      ]
     },
     "execution_count": 21,
     "metadata": {},
     "output_type": "execute_result"
    }
   ],
   "source": [
    "4**6 | 8==9"
   ]
  },
  {
   "cell_type": "code",
   "execution_count": 25,
   "id": "8144aa12-05f2-4c99-ae22-3af1c37be183",
   "metadata": {},
   "outputs": [
    {
     "data": {
      "text/plain": [
       "False"
      ]
     },
     "execution_count": 25,
     "metadata": {},
     "output_type": "execute_result"
    }
   ],
   "source": [
    "(1!=57 ^ 7<6)"
   ]
  },
  {
   "cell_type": "code",
   "execution_count": 33,
   "id": "bd718c2f-0880-4905-8d26-151897e6aa9f",
   "metadata": {},
   "outputs": [
    {
     "data": {
      "text/plain": [
       "True"
      ]
     },
     "execution_count": 33,
     "metadata": {},
     "output_type": "execute_result"
    }
   ],
   "source": [
    "a=5\n",
    "b=3\n",
    "b**a & b!=a"
   ]
  },
  {
   "cell_type": "code",
   "execution_count": null,
   "id": "3218548e-aa07-4bad-9605-a69daefda2c1",
   "metadata": {},
   "outputs": [],
   "source": []
  }
 ],
 "metadata": {
  "kernelspec": {
   "display_name": "Python 3 (ipykernel)",
   "language": "python",
   "name": "python3"
  },
  "language_info": {
   "codemirror_mode": {
    "name": "ipython",
    "version": 3
   },
   "file_extension": ".py",
   "mimetype": "text/x-python",
   "name": "python",
   "nbconvert_exporter": "python",
   "pygments_lexer": "ipython3",
   "version": "3.12.4"
  }
 },
 "nbformat": 4,
 "nbformat_minor": 5
}
