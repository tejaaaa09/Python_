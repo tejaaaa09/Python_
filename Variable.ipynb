{
 "cells": [
  {
   "cell_type": "markdown",
   "id": "4a60dcea-2e1a-4c05-a7b9-cfdebfa026e9",
   "metadata": {},
   "source": [
    "# 1) Explain about Variable"
   ]
  },
  {
   "cell_type": "markdown",
   "id": "c86c2ff6-4b96-4c9a-b62e-51ac1215777a",
   "metadata": {},
   "source": [
    "Python Variable is containers that store values. A Python variable is a name given to amemory location. A variable is created the moment you first assign a value to it."
   ]
  },
  {
   "cell_type": "markdown",
   "id": "0776568d-6fde-4356-aa87-1c2ca300ea65",
   "metadata": {},
   "source": [
    "# 2) Rules of Variables"
   ]
  },
  {
   "cell_type": "markdown",
   "id": "cf630897-557a-4bd5-b67c-37908661052a",
   "metadata": {},
   "source": [
    "1) A python variable name must start with a letter or the underscore charatcer.\n",
    "   ex: teja = 1, _teja = 2\n",
    "2) python variable name cannot start with a number.\n",
    "   ex: 9teja = 3\n",
    "3) A python variable name can only contain alpha-numeric charatcers and underscores.\n",
    "   ex: teja_9 = 4 \n",
    "4) Variable in python names are case-senstive.\n",
    "   ex: TEJA = 5, teja = 6\n",
    "5) The keywords in python cannot be used to name the variable in python.\n",
    "    ex: and = 7"
   ]
  },
  {
   "cell_type": "markdown",
   "id": "97c5c2b0-09c2-4759-b4e3-ea3227ea26e0",
   "metadata": {},
   "source": [
    "# 3) Types of variable"
   ]
  },
  {
   "cell_type": "markdown",
   "id": "cd614da4-9a9b-4301-8266-80c97f884a3b",
   "metadata": {},
   "source": [
    "1) Multi to single variables : You can assign the same value to multiple variables in one line.\n",
    "   ex: x = y = z = 1\n",
    "3) Multi to multi variables: Python allows you to assign values to multiple variables in one line\n",
    "   ex: a, b, c = 2, 3, 4"
   ]
  },
  {
   "cell_type": "markdown",
   "id": "9cf67c0c-617f-46e2-8b9c-3d311e7426dc",
   "metadata": {},
   "source": [
    "# 4) 10 Examples of each & Every type and you need to print & Identify the type"
   ]
  },
  {
   "cell_type": "code",
   "execution_count": 24,
   "id": "bff8746c-013e-4516-8c3f-118fd15fd172",
   "metadata": {},
   "outputs": [
    {
     "name": "stdout",
     "output_type": "stream",
     "text": [
      "ORANGE\n",
      "<class 'str'>\n"
     ]
    }
   ],
   "source": [
    "#multi to single variable:\n",
    "x = y = z = \"ORANGE\"\n",
    "print(y)\n",
    "print(type(y))"
   ]
  },
  {
   "cell_type": "code",
   "execution_count": 26,
   "id": "dac73457-f55d-43a9-b14d-0eab88ca7820",
   "metadata": {},
   "outputs": [
    {
     "name": "stdout",
     "output_type": "stream",
     "text": [
      "One Piece\n",
      "<class 'str'>\n"
     ]
    }
   ],
   "source": [
    "Luffy = Ace = Sabo = \"One Piece\"\n",
    "print(Ace)\n",
    "print(type(Ace))"
   ]
  },
  {
   "cell_type": "code",
   "execution_count": 28,
   "id": "78d312b9-b64f-401b-8f9e-0cf924fbabfe",
   "metadata": {},
   "outputs": [
    {
     "name": "stdout",
     "output_type": "stream",
     "text": [
      "1.9\n",
      "<class 'float'>\n"
     ]
    }
   ],
   "source": [
    "_grap = _gold_d_roger = _rocks = 1.9\n",
    "print(_grap)\n",
    "print(type(_grap))"
   ]
  },
  {
   "cell_type": "code",
   "execution_count": 32,
   "id": "bcfbe392-9193-44de-b7b9-54b46a295904",
   "metadata": {},
   "outputs": [
    {
     "name": "stdout",
     "output_type": "stream",
     "text": [
      "1\n",
      "<class 'int'>\n"
     ]
    }
   ],
   "source": [
    "kido_1 = big_mon2 = king7_ = 1\n",
    "print(king7_)\n",
    "print(type(king7_))"
   ]
  },
  {
   "cell_type": "code",
   "execution_count": 50,
   "id": "3dc4061e-b05c-4026-b630-66ffafa6f103",
   "metadata": {},
   "outputs": [
    {
     "name": "stdout",
     "output_type": "stream",
     "text": [
      "Current_Admirals\n",
      "<class 'str'>\n"
     ]
    }
   ],
   "source": [
    "Kizaru_1 = _FUJITORA5 = RYOKUGYU_ = \"Current_Admirals\"\n",
    "print(_FUJITORA5)\n",
    "print(type(_FUJITORA5))"
   ]
  },
  {
   "cell_type": "code",
   "execution_count": 54,
   "id": "8aa30b68-45a6-48e1-9d27-9caff5fb9d70",
   "metadata": {},
   "outputs": [
    {
     "name": "stdout",
     "output_type": "stream",
     "text": [
      "20.9\n",
      "<class 'float'>\n"
     ]
    }
   ],
   "source": [
    "luffy_9 = ZORO_ = Sanji9_ = 20.9\n",
    "print(luffy_9)\n",
    "print(type(luffy_9))"
   ]
  },
  {
   "cell_type": "code",
   "execution_count": 58,
   "id": "02d58820-2e55-4931-80aa-5e482b9ca630",
   "metadata": {},
   "outputs": [
    {
     "name": "stdout",
     "output_type": "stream",
     "text": [
      "NINJA\n",
      "<class 'str'>\n"
     ]
    }
   ],
   "source": [
    "_NARUTO = _SASUKE = SAKURA8 = \"NINJA\"\n",
    "print(_NARUTO)\n",
    "print(type(_NARUTO))"
   ]
  },
  {
   "cell_type": "code",
   "execution_count": 60,
   "id": "b42c7bff-b73e-4d9a-9152-8458585123b7",
   "metadata": {},
   "outputs": [
    {
     "name": "stdout",
     "output_type": "stream",
     "text": [
      "2\n",
      "<class 'int'>\n"
     ]
    }
   ],
   "source": [
    "ka_kashi9 = obit_o7 = ri_n_ = 2\n",
    "print(ri_n_)\n",
    "print(type(ri_n_))"
   ]
  },
  {
   "cell_type": "code",
   "execution_count": 62,
   "id": "37838999-8e10-4fe6-80f8-379169fedf65",
   "metadata": {},
   "outputs": [
    {
     "ename": "SyntaxError",
     "evalue": "invalid syntax (857763667.py, line 1)",
     "output_type": "error",
     "traceback": [
      "\u001b[1;36m  Cell \u001b[1;32mIn[62], line 1\u001b[1;36m\u001b[0m\n\u001b[1;33m    $pain = madara_ = _tobi9 = \"9.8\"\u001b[0m\n\u001b[1;37m    ^\u001b[0m\n\u001b[1;31mSyntaxError\u001b[0m\u001b[1;31m:\u001b[0m invalid syntax\n"
     ]
    }
   ],
   "source": [
    "$pain = madara_ = _tobi9 = \"9.8\"\n",
    "print(_tobi9)\n",
    "print(type(_tobi9))"
   ]
  },
  {
   "cell_type": "code",
   "execution_count": 64,
   "id": "155c190a-aff7-47ce-bc38-e4e7896769c1",
   "metadata": {},
   "outputs": [
    {
     "ename": "SyntaxError",
     "evalue": "invalid decimal literal (3209664876.py, line 1)",
     "output_type": "error",
     "traceback": [
      "\u001b[1;36m  Cell \u001b[1;32mIn[64], line 1\u001b[1;36m\u001b[0m\n\u001b[1;33m    8_shoyo_hinata = tobi kageyama = _daichi = 10\u001b[0m\n\u001b[1;37m     ^\u001b[0m\n\u001b[1;31mSyntaxError\u001b[0m\u001b[1;31m:\u001b[0m invalid decimal literal\n"
     ]
    }
   ],
   "source": [
    "8_shoyo_hinata = tobi kageyama = _daichi = 10\n",
    "print(_daichi)\n",
    "print(type(_daichi))"
   ]
  },
  {
   "cell_type": "code",
   "execution_count": 78,
   "id": "2ce44935-ba40-4e77-a91c-a4730c78cdd5",
   "metadata": {},
   "outputs": [
    {
     "name": "stdout",
     "output_type": "stream",
     "text": [
      "1 2 3\n",
      "<class 'int'>\n"
     ]
    }
   ],
   "source": [
    "#Multi to Mutli variable\n",
    "Eren, mikasa, levi = 1, 2, 3\n",
    "print(Eren, mikasa, levi)\n",
    "print(type(levi))"
   ]
  },
  {
   "cell_type": "code",
   "execution_count": 96,
   "id": "6b01c2a6-9e01-40b9-b463-b3d73028482c",
   "metadata": {},
   "outputs": [
    {
     "name": "stdout",
     "output_type": "stream",
     "text": [
      "5\n",
      "<class 'str'>\n"
     ]
    }
   ],
   "source": [
    "_tanjiro, nezuko_9, inosuke5_ = 5, \"name\", 98.977\n",
    "print(_tanjiro)\n",
    "print(type(nezuko_9))"
   ]
  },
  {
   "cell_type": "code",
   "execution_count": 98,
   "id": "2bf83c02-90c2-4e51-96a6-e2ba540d42dd",
   "metadata": {},
   "outputs": [
    {
     "ename": "SyntaxError",
     "evalue": "invalid decimal literal (2460116625.py, line 1)",
     "output_type": "error",
     "traceback": [
      "\u001b[1;36m  Cell \u001b[1;32mIn[98], line 1\u001b[1;36m\u001b[0m\n\u001b[1;33m    9zenistu, tanjiro9, inosuke_ = \"name\", 3, 9.5\u001b[0m\n\u001b[1;37m    ^\u001b[0m\n\u001b[1;31mSyntaxError\u001b[0m\u001b[1;31m:\u001b[0m invalid decimal literal\n"
     ]
    }
   ],
   "source": [
    "9zenistu, tanjiro9, inosuke_ = \"name\", 3, 9.5\n",
    "print(tanjiro9)\n",
    "print(type(inosuke_))"
   ]
  },
  {
   "cell_type": "code",
   "execution_count": 102,
   "id": "7c4d2188-bcfa-4e36-9060-866bc4fc210d",
   "metadata": {},
   "outputs": [
    {
     "name": "stdout",
     "output_type": "stream",
     "text": [
      "giyu 1.7 6\n",
      "<class 'float'>\n"
     ]
    }
   ],
   "source": [
    "NAME, name, NAme = 1.7, \"giyu\", 6\n",
    "print(name, NAME, NAme)\n",
    "print(type(NAME))"
   ]
  },
  {
   "cell_type": "code",
   "execution_count": 104,
   "id": "49b3abed-f185-4652-bb86-61ae2a2d1aa0",
   "metadata": {},
   "outputs": [
    {
     "name": "stdout",
     "output_type": "stream",
     "text": [
      "world 9 0.9\n",
      "<class 'str'> <class 'int'> <class 'float'>\n"
     ]
    }
   ],
   "source": [
    "n_1, N_AM_E, _9ROCK = \"world\", 9, 0.9\n",
    "print(n_1, N_AM_E, _9ROCK)\n",
    "print(type(n_1), type(N_AM_E), type(_9ROCK))"
   ]
  },
  {
   "cell_type": "code",
   "execution_count": 106,
   "id": "f40596d7-9fc1-4255-96ab-b21957e576fe",
   "metadata": {},
   "outputs": [
    {
     "ename": "SyntaxError",
     "evalue": "invalid syntax (945227919.py, line 1)",
     "output_type": "error",
     "traceback": [
      "\u001b[1;36m  Cell \u001b[1;32mIn[106], line 1\u001b[1;36m\u001b[0m\n\u001b[1;33m    and, for, char = 1, \"Hashira\", 8.97\u001b[0m\n\u001b[1;37m    ^\u001b[0m\n\u001b[1;31mSyntaxError\u001b[0m\u001b[1;31m:\u001b[0m invalid syntax\n"
     ]
    }
   ],
   "source": [
    "and, for, char = 1, \"Hashira\", 8.97\n",
    "print(for)\n",
    "print(type(for))"
   ]
  },
  {
   "cell_type": "code",
   "execution_count": 110,
   "id": "bcd8b398-d35c-4bf2-bcfc-59b010bbcf08",
   "metadata": {},
   "outputs": [
    {
     "name": "stdout",
     "output_type": "stream",
     "text": [
      "hAshira\n",
      "<class 'int'>\n"
     ]
    }
   ],
   "source": [
    "_mitus_ri6, obanai_8, sanemi_ = 2, 9.3, \"hAshira\"\n",
    "print(sanemi_)\n",
    "print(type(_mitus_ri6))\n"
   ]
  },
  {
   "cell_type": "code",
   "execution_count": null,
   "id": "5bac13b4-652d-4641-92d8-e690b3bb9b71",
   "metadata": {},
   "outputs": [],
   "source": []
  }
 ],
 "metadata": {
  "kernelspec": {
   "display_name": "Python 3 (ipykernel)",
   "language": "python",
   "name": "python3"
  },
  "language_info": {
   "codemirror_mode": {
    "name": "ipython",
    "version": 3
   },
   "file_extension": ".py",
   "mimetype": "text/x-python",
   "name": "python",
   "nbconvert_exporter": "python",
   "pygments_lexer": "ipython3",
   "version": "3.12.4"
  }
 },
 "nbformat": 4,
 "nbformat_minor": 5
}
