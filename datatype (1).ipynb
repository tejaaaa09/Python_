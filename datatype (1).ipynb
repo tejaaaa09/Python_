{
 "cells": [
  {
   "cell_type": "markdown",
   "id": "92fe0a73-7635-4ff5-b4ea-b9086978e685",
   "metadata": {},
   "source": [
    "# 1) Explain about Data types?"
   ]
  },
  {
   "cell_type": "markdown",
   "id": "bc0fb582-4b9a-4165-a46f-e0da51b46659",
   "metadata": {},
   "source": [
    "The type of data that a variable can hold. It determines the operations that can be performed on the data and the way it is stored in memory. It has 2 different types \n",
    "\n",
    "1) Primitive Data Type: These are the most primitive or basic data structures. They are the building blocks for data manipulation and contain pure, simple values of data. Their value cannot change after they are created. It has four primitive variable types:Integers, Float, Complex, Boolean.\n",
    "e2n\n",
    "3) Non Primitive Data T: Non-primitive data types, also known as complex or composite data types, are data types that are derived from primitive data types. They can store multiple values or more complex structures of data. Their contents can be changed. It has 5 Non-primitive data types:List, String, Tuple, Dictionary, Sets.pes\n"
   ]
  },
  {
   "cell_type": "markdown",
   "id": "440f21fc-734d-427a-a9ed-0e0da9c2bc78",
   "metadata": {},
   "source": [
    "# 2) Explain  about integer with Example:"
   ]
  },
  {
   "cell_type": "markdown",
   "id": "360e4e3c-3b94-4b10-a6d9-52c3a31d198b",
   "metadata": {},
   "source": [
    "This value is represented by int class. It contains positive or negative whole numbers without fractions or decimals. There is no limit to how long an integer value can be."
   ]
  },
  {
   "cell_type": "code",
   "execution_count": 36,
   "id": "5b3dc5a2-face-41d3-9fa9-4b52dd2fdcf0",
   "metadata": {},
   "outputs": [
    {
     "name": "stdout",
     "output_type": "stream",
     "text": [
      "1\n",
      "<class 'int'>\n"
     ]
    }
   ],
   "source": [
    "L_u_f_f_y = 1\n",
    "print(Luffy)\n",
    "print(type(L_u_f_f_y))"
   ]
  },
  {
   "cell_type": "code",
   "execution_count": 34,
   "id": "634a4ea2-628f-4891-a84a-a7a6a4efd250",
   "metadata": {},
   "outputs": [
    {
     "name": "stdout",
     "output_type": "stream",
     "text": [
      "<class 'int'>\n"
     ]
    }
   ],
   "source": [
    "ace_98 = 2\n",
    "print(type(ace_98))"
   ]
  },
  {
   "cell_type": "code",
   "execution_count": 32,
   "id": "2392b26b-a85f-451a-84c3-07d5b65a2f19",
   "metadata": {},
   "outputs": [
    {
     "name": "stdout",
     "output_type": "stream",
     "text": [
      "<class 'int'>\n"
     ]
    }
   ],
   "source": [
    "_SABO = 3\n",
    "print(type(_SABO))"
   ]
  },
  {
   "cell_type": "markdown",
   "id": "a22d286e-d6f8-4de9-86ed-ae4e4229c930",
   "metadata": {},
   "source": [
    "# 3) Explain  about Float with Example:"
   ]
  },
  {
   "cell_type": "markdown",
   "id": "5140d77a-78a1-4afa-b181-1f7448e5151b",
   "metadata": {},
   "source": [
    "This value is represented by the float class. It is a real number with a floating-point representation. It is specified by a decimal point. The character e or E followed by a positive or negative integer may be appended to specify scientific notation."
   ]
  },
  {
   "cell_type": "code",
   "execution_count": 42,
   "id": "56a53955-5fe0-4774-9613-fabd2d2117cc",
   "metadata": {},
   "outputs": [
    {
     "name": "stdout",
     "output_type": "stream",
     "text": [
      "7.6\n",
      "<class 'float'>\n"
     ]
    }
   ],
   "source": [
    "GRAP_ = 7.6\n",
    "print(GRAP_)\n",
    "print(type(GRAP_))"
   ]
  },
  {
   "cell_type": "code",
   "execution_count": 44,
   "id": "4b0f271e-a32e-45c6-b429-fb083e3f7902",
   "metadata": {},
   "outputs": [
    {
     "name": "stdout",
     "output_type": "stream",
     "text": [
      "<class 'float'>\n"
     ]
    }
   ],
   "source": [
    "_miKEY9 = 2.9\n",
    "print(type(_miKEY9))"
   ]
  },
  {
   "cell_type": "code",
   "execution_count": 46,
   "id": "de9b8f77-91c8-4202-a833-134f8352fe3f",
   "metadata": {},
   "outputs": [
    {
     "name": "stdout",
     "output_type": "stream",
     "text": [
      "<class 'float'>\n"
     ]
    }
   ],
   "source": [
    "takimichi3 = -4.8773\n",
    "print(type(takimichi3))"
   ]
  },
  {
   "cell_type": "markdown",
   "id": "67359db1-d50d-4030-bd21-3cc1b2a14ef2",
   "metadata": {},
   "source": [
    "# 4) Explain  about Complex with Example:"
   ]
  },
  {
   "cell_type": "markdown",
   "id": "d322a7c0-b162-4826-ad83-66a1e99992f4",
   "metadata": {},
   "source": [
    "A complex number is represented by a complex class. It is specified as (real part) + (imaginary part)j . If the string passed to this method is not a valid complex number, ValueError exception is raised."
   ]
  },
  {
   "cell_type": "code",
   "execution_count": 56,
   "id": "67761a57-5942-41bc-886d-b833e3a9dd4a",
   "metadata": {},
   "outputs": [
    {
     "name": "stdout",
     "output_type": "stream",
     "text": [
      "<class 'complex'>\n"
     ]
    }
   ],
   "source": [
    "_Rengoku = 9+8j\n",
    "print(type(_Rengoku))"
   ]
  },
  {
   "cell_type": "code",
   "execution_count": 58,
   "id": "a736f427-c614-4782-8168-1c48dab5ae3a",
   "metadata": {},
   "outputs": [
    {
     "name": "stdout",
     "output_type": "stream",
     "text": [
      "<class 'complex'>\n"
     ]
    }
   ],
   "source": [
    "TENGEN_Uzui_98 = -3-0j\n",
    "print(type(TENGEN_Uzui_98))"
   ]
  },
  {
   "cell_type": "code",
   "execution_count": 68,
   "id": "c7d0108f-e45d-41cc-8807-3a5709e6ec2d",
   "metadata": {},
   "outputs": [
    {
     "name": "stdout",
     "output_type": "stream",
     "text": [
      "<class 'complex'>\n"
     ]
    }
   ],
   "source": [
    "Ka_nae9 = 0j\n",
    "print(type(Ka_nae9))"
   ]
  },
  {
   "cell_type": "code",
   "execution_count": 72,
   "id": "3a904bb3-a4f8-4db7-91c6-33b226890e7c",
   "metadata": {},
   "outputs": [
    {
     "name": "stdout",
     "output_type": "stream",
     "text": [
      "<class 'complex'>\n"
     ]
    }
   ],
   "source": [
    "Shi7_nobu_ = -7*3j\n",
    "print(type(Shi7_nobu_))"
   ]
  },
  {
   "cell_type": "markdown",
   "id": "a7250034-ffca-4c3f-93be-7dca388c5fb9",
   "metadata": {},
   "source": [
    "# 5) Boolean with examples"
   ]
  },
  {
   "cell_type": "markdown",
   "id": "c9511e66-e0d4-4079-bc52-d2f396ad476d",
   "metadata": {},
   "source": [
    "A Boolean variable can have only two values - True or False. Numerically, True is equal to 1 and False is equal to 0. If any value has some type of content in it, it is finally evaluated to True when we use the bool() method on it. In fact, except for empty strings, all the strings evaluate to True. Any number except 0, evaluates to True. Moreover, apart from the empty ones, all the sets, lists, tuples, and dictionaries also evaluate to True. Usually, empty values such as empty strings, zero values, and None, evaluate to False."
   ]
  },
  {
   "cell_type": "code",
   "execution_count": 85,
   "id": "6aec7e6a-8518-43e9-9b4d-3a1bf598a5ca",
   "metadata": {},
   "outputs": [
    {
     "data": {
      "text/plain": [
       "True"
      ]
     },
     "execution_count": 85,
     "metadata": {},
     "output_type": "execute_result"
    }
   ],
   "source": [
    "A = 23 \n",
    "b = 3\n",
    "bool(\"A>b\")"
   ]
  },
  {
   "cell_type": "code",
   "execution_count": 9,
   "id": "812b43c1-d107-4be7-bc54-8a91d67f9928",
   "metadata": {},
   "outputs": [
    {
     "data": {
      "text/plain": [
       "True"
      ]
     },
     "execution_count": 9,
     "metadata": {},
     "output_type": "execute_result"
    }
   ],
   "source": [
    "bool(1)"
   ]
  },
  {
   "cell_type": "code",
   "execution_count": 11,
   "id": "a3e63345-1174-407a-81fc-16f7810bc7be",
   "metadata": {},
   "outputs": [
    {
     "data": {
      "text/plain": [
       "True"
      ]
     },
     "execution_count": 11,
     "metadata": {},
     "output_type": "execute_result"
    }
   ],
   "source": [
    "bool(\"itachi\")"
   ]
  },
  {
   "cell_type": "code",
   "execution_count": 13,
   "id": "f893ff23-b6c9-416f-bab8-7563740166be",
   "metadata": {},
   "outputs": [
    {
     "data": {
      "text/plain": [
       "True"
      ]
     },
     "execution_count": 13,
     "metadata": {},
     "output_type": "execute_result"
    }
   ],
   "source": [
    "bool(1.8)"
   ]
  },
  {
   "cell_type": "code",
   "execution_count": 83,
   "id": "e1d40ef2-45b0-4554-a6e4-5dac6650f992",
   "metadata": {},
   "outputs": [
    {
     "data": {
      "text/plain": [
       "True"
      ]
     },
     "execution_count": 83,
     "metadata": {},
     "output_type": "execute_result"
    }
   ],
   "source": [
    "bool(\"1==1\")"
   ]
  },
  {
   "cell_type": "code",
   "execution_count": 17,
   "id": "7e859ad6-263c-431a-af6a-b32d1f800d8d",
   "metadata": {},
   "outputs": [
    {
     "data": {
      "text/plain": [
       "True"
      ]
     },
     "execution_count": 17,
     "metadata": {},
     "output_type": "execute_result"
    }
   ],
   "source": [
    "bool(46+50<100)"
   ]
  },
  {
   "cell_type": "code",
   "execution_count": 19,
   "id": "dbbab82d-a51a-4784-a07c-939a5521f69e",
   "metadata": {},
   "outputs": [
    {
     "data": {
      "text/plain": [
       "False"
      ]
     },
     "execution_count": 19,
     "metadata": {},
     "output_type": "execute_result"
    }
   ],
   "source": [
    "bool()"
   ]
  },
  {
   "cell_type": "code",
   "execution_count": 21,
   "id": "3e1aa6de-5d0b-45b1-9dc5-504d350e4984",
   "metadata": {},
   "outputs": [
    {
     "data": {
      "text/plain": [
       "False"
      ]
     },
     "execution_count": 21,
     "metadata": {},
     "output_type": "execute_result"
    }
   ],
   "source": [
    "bool(0)"
   ]
  },
  {
   "cell_type": "code",
   "execution_count": 23,
   "id": "5c9d22ea-bfdd-4773-94b1-e0f004cc87ac",
   "metadata": {},
   "outputs": [
    {
     "data": {
      "text/plain": [
       "True"
      ]
     },
     "execution_count": 23,
     "metadata": {},
     "output_type": "execute_result"
    }
   ],
   "source": [
    "bool(0+2j)"
   ]
  },
  {
   "cell_type": "code",
   "execution_count": 25,
   "id": "1e073167-07ef-49f3-a7f0-2698a075bf34",
   "metadata": {},
   "outputs": [
    {
     "data": {
      "text/plain": [
       "False"
      ]
     },
     "execution_count": 25,
     "metadata": {},
     "output_type": "execute_result"
    }
   ],
   "source": [
    "bool(0+0j)"
   ]
  },
  {
   "cell_type": "code",
   "execution_count": 27,
   "id": "131c3ead-59be-4ff9-b586-6cbc7544de1d",
   "metadata": {},
   "outputs": [
    {
     "data": {
      "text/plain": [
       "False"
      ]
     },
     "execution_count": 27,
     "metadata": {},
     "output_type": "execute_result"
    }
   ],
   "source": [
    "bool(\"\")"
   ]
  },
  {
   "cell_type": "code",
   "execution_count": 29,
   "id": "f32e5ed2-9575-423a-b9e3-a50ff03a45cd",
   "metadata": {},
   "outputs": [
    {
     "data": {
      "text/plain": [
       "False"
      ]
     },
     "execution_count": 29,
     "metadata": {},
     "output_type": "execute_result"
    }
   ],
   "source": [
    "bool(None)"
   ]
  },
  {
   "cell_type": "code",
   "execution_count": 57,
   "id": "10973549-0e02-4cbd-80c0-ad04de34991c",
   "metadata": {},
   "outputs": [
    {
     "ename": "TypeError",
     "evalue": "'>' not supported between instances of 'complex' and 'complex'",
     "output_type": "error",
     "traceback": [
      "\u001b[1;31m---------------------------------------------------------------------------\u001b[0m",
      "\u001b[1;31mTypeError\u001b[0m                                 Traceback (most recent call last)",
      "Cell \u001b[1;32mIn[57], line 5\u001b[0m\n\u001b[0;32m      3\u001b[0m \u001b[38;5;28mbool\u001b[39m(h9inata\u001b[38;5;241m.\u001b[39mreal\u001b[38;5;241m<\u001b[39mpain_\u001b[38;5;241m.\u001b[39mreal)\n\u001b[0;32m      4\u001b[0m \u001b[38;5;28mbool\u001b[39m(h9inata\u001b[38;5;241m.\u001b[39mimag\u001b[38;5;241m>\u001b[39mpain_\u001b[38;5;241m.\u001b[39mimag)\n\u001b[1;32m----> 5\u001b[0m \u001b[38;5;28mprint\u001b[39m(\u001b[38;5;28mbool\u001b[39m(h9inata \u001b[38;5;241m>\u001b[39m pain_))\n",
      "\u001b[1;31mTypeError\u001b[0m: '>' not supported between instances of 'complex' and 'complex'"
     ]
    }
   ],
   "source": [
    "pain_ = 3*0j\n",
    "h9inata = 7-3j\n",
    "print(bool(h9inata > pain_))"
   ]
  },
  {
   "cell_type": "code",
   "execution_count": 37,
   "id": "4bbda5b1-e086-41cc-9dd6-ed0421ff004b",
   "metadata": {},
   "outputs": [
    {
     "data": {
      "text/plain": [
       "True"
      ]
     },
     "execution_count": 37,
     "metadata": {},
     "output_type": "execute_result"
    }
   ],
   "source": [
    "a = 1\n",
    "b = 3.5\n",
    "bool(a<b)"
   ]
  },
  {
   "cell_type": "code",
   "execution_count": 53,
   "id": "33421ff4-1545-4095-b7a2-a953679fbf6b",
   "metadata": {},
   "outputs": [
    {
     "data": {
      "text/plain": [
       "False"
      ]
     },
     "execution_count": 53,
     "metadata": {},
     "output_type": "execute_result"
    }
   ],
   "source": [
    "c = 3.5 + 6j\n",
    "d = 2 + 0j\n",
    "bool(c.imag < d.imag)"
   ]
  },
  {
   "cell_type": "code",
   "execution_count": 47,
   "id": "810b0baf-7fa7-49a5-b0bb-ee2e4278cb8f",
   "metadata": {},
   "outputs": [
    {
     "data": {
      "text/plain": [
       "True"
      ]
     },
     "execution_count": 47,
     "metadata": {},
     "output_type": "execute_result"
    }
   ],
   "source": [
    "e = 8\n",
    "f = 5-6j\n",
    "e.real > f.real"
   ]
  },
  {
   "cell_type": "markdown",
   "id": "f319aa1f-fd85-44c0-b269-ce8c31c86ad5",
   "metadata": {},
   "source": [
    "# 6) Type Casting"
   ]
  },
  {
   "cell_type": "markdown",
   "id": "907b1830-28a5-48a3-a55f-4d3eacb31777",
   "metadata": {},
   "source": [
    "Casting is also known as type conversion, is a process that converts a variable's data type into another data type.\n",
    "int() - constructs an integer number from an integer literal, a float literal by removing all decimals, or a string literal providing the string represents a whole number.\n",
    "float() - constructs a float number from an integer literal, a float literal or a string literal providing the string represents a float or an integer.\n",
    "str() - constructs a string from a wide variety of data types, including strings, integer literals and float literals"
   ]
  },
  {
   "cell_type": "code",
   "execution_count": 65,
   "id": "6895c967-de5c-4419-8cb2-1a36f978e78e",
   "metadata": {},
   "outputs": [
    {
     "name": "stdout",
     "output_type": "stream",
     "text": [
      "1\n",
      "4\n"
     ]
    }
   ],
   "source": [
    "_tanjiro = 1.7777\n",
    "ZEN_itsu9 = \"4\"\n",
    "print(int(_tanjiro))\n",
    "print(int(ZEN_itsu9))"
   ]
  },
  {
   "cell_type": "code",
   "execution_count": 95,
   "id": "4e00c180-92f2-43a1-bdbf-a6a146054b59",
   "metadata": {},
   "outputs": [
    {
     "name": "stdout",
     "output_type": "stream",
     "text": [
      "89.0\n",
      "9.0\n"
     ]
    }
   ],
   "source": [
    "N_ = 89\n",
    "name_1 = \"9\"\n",
    "print(float(N_))\n",
    "print(float(name_1))"
   ]
  },
  {
   "cell_type": "code",
   "execution_count": 91,
   "id": "16ade20d-89b3-4562-bc27-f5f5223be889",
   "metadata": {},
   "outputs": [
    {
     "name": "stdout",
     "output_type": "stream",
     "text": [
      "1\n",
      "4\n"
     ]
    }
   ],
   "source": [
    "a = 1\n",
    "b = 4\n",
    "print(str(a))\n",
    "print(str(b))"
   ]
  },
  {
   "cell_type": "code",
   "execution_count": 115,
   "id": "19daf88a-adfe-4ea8-8360-25a3551cb3eb",
   "metadata": {},
   "outputs": [
    {
     "name": "stdout",
     "output_type": "stream",
     "text": [
      "t4\n",
      "4\n",
      "34.0\n"
     ]
    },
    {
     "data": {
      "text/plain": [
       "str"
      ]
     },
     "execution_count": 115,
     "metadata": {},
     "output_type": "execute_result"
    }
   ],
   "source": [
    "cj_ = 34\n",
    "kl4 = 4.866\n",
    "i = \"t4\"\n",
    "print(str(i))\n",
    "print(int(kl4))\n",
    "print(float(cj_))\n",
    "type(i)"
   ]
  },
  {
   "cell_type": "code",
   "execution_count": 117,
   "id": "fe65293f-9015-4d83-b97a-dd66e1034842",
   "metadata": {},
   "outputs": [
    {
     "ename": "TypeError",
     "evalue": "int() argument must be a string, a bytes-like object or a real number, not 'complex'",
     "output_type": "error",
     "traceback": [
      "\u001b[1;31m---------------------------------------------------------------------------\u001b[0m",
      "\u001b[1;31mTypeError\u001b[0m                                 Traceback (most recent call last)",
      "Cell \u001b[1;32mIn[117], line 2\u001b[0m\n\u001b[0;32m      1\u001b[0m g \u001b[38;5;241m=\u001b[39m \u001b[38;5;241m3\u001b[39m\u001b[38;5;241m+\u001b[39m\u001b[38;5;241m0\u001b[39mj\n\u001b[1;32m----> 2\u001b[0m \u001b[38;5;28mprint\u001b[39m(\u001b[38;5;28mint\u001b[39m(g))\n",
      "\u001b[1;31mTypeError\u001b[0m: int() argument must be a string, a bytes-like object or a real number, not 'complex'"
     ]
    }
   ],
   "source": [
    "g = 3+0j\n",
    "print(int(g))"
   ]
  },
  {
   "cell_type": "code",
   "execution_count": 119,
   "id": "ea62c918-8252-48e7-b571-a712cd7b151d",
   "metadata": {},
   "outputs": [
    {
     "name": "stdout",
     "output_type": "stream",
     "text": [
      "(4.5667+0j)\n",
      "(4+0j)\n"
     ]
    }
   ],
   "source": [
    "g = 4.5667\n",
    "h = 4\n",
    "print(complex(g))\n",
    "print(complex(h))\n"
   ]
  },
  {
   "cell_type": "code",
   "execution_count": null,
   "id": "def35093-cb35-49f0-849f-2c677e517956",
   "metadata": {},
   "outputs": [],
   "source": []
  }
 ],
 "metadata": {
  "kernelspec": {
   "display_name": "Python 3 (ipykernel)",
   "language": "python",
   "name": "python3"
  },
  "language_info": {
   "codemirror_mode": {
    "name": "ipython",
    "version": 3
   },
   "file_extension": ".py",
   "mimetype": "text/x-python",
   "name": "python",
   "nbconvert_exporter": "python",
   "pygments_lexer": "ipython3",
   "version": "3.12.4"
  }
 },
 "nbformat": 4,
 "nbformat_minor": 5
}
