{
 "cells": [
  {
   "cell_type": "markdown",
   "id": "92fe0a73-7635-4ff5-b4ea-b9086978e685",
   "metadata": {},
   "source": [
    "# 1) Explain about Data types?"
   ]
  },
  {
   "cell_type": "markdown",
   "id": "bc0fb582-4b9a-4165-a46f-e0da51b46659",
   "metadata": {},
   "source": [
    "The type of data that a variable can hold. It determines the operations that can be performed on the data and the way it is stored in memory. It has 2 different types \n",
    "\n",
    "1) Primitive Data Type: These are the most primitive or basic data structures. They are the building blocks for data manipulation and contain pure, simple values of data. Their value cannot change after they are created. It has four primitive variable types:Integers, Float, Complex, Boolean.\n",
    "e2n\n",
    "3) Non Primitive Data T: Non-primitive data types, also known as complex or composite data types, are data types that are derived from primitive data types. They can store multiple values or more complex structures of data. Their contents can be changed. It has 5 Non-primitive data types:List, String, Tuple, Dictionary, Sets.pes\n"
   ]
  },
  {
   "cell_type": "markdown",
   "id": "440f21fc-734d-427a-a9ed-0e0da9c2bc78",
   "metadata": {},
   "source": [
    "# 2) Explain  about integer with Example:"
   ]
  },
  {
   "cell_type": "markdown",
   "id": "360e4e3c-3b94-4b10-a6d9-52c3a31d198b",
   "metadata": {},
   "source": [
    "This value is represented by int class. It contains positive or negative whole numbers without fractions or decimals. There is no limit to how long an integer value can be."
   ]
  },
  {
   "cell_type": "code",
   "execution_count": 36,
   "id": "5b3dc5a2-face-41d3-9fa9-4b52dd2fdcf0",
   "metadata": {},
   "outputs": [
    {
     "name": "stdout",
     "output_type": "stream",
     "text": [
      "1\n",
      "<class 'int'>\n"
     ]
    }
   ],
   "source": [
    "L_u_f_f_y = 1\n",
    "print(Luffy)\n",
    "print(type(L_u_f_f_y))"
   ]
  },
  {
   "cell_type": "code",
   "execution_count": 34,
   "id": "634a4ea2-628f-4891-a84a-a7a6a4efd250",
   "metadata": {},
   "outputs": [
    {
     "name": "stdout",
     "output_type": "stream",
     "text": [
      "<class 'int'>\n"
     ]
    }
   ],
   "source": [
    "ace_98 = 2\n",
    "print(type(ace_98))"
   ]
  },
  {
   "cell_type": "code",
   "execution_count": 32,
   "id": "2392b26b-a85f-451a-84c3-07d5b65a2f19",
   "metadata": {},
   "outputs": [
    {
     "name": "stdout",
     "output_type": "stream",
     "text": [
      "<class 'int'>\n"
     ]
    }
   ],
   "source": [
    "_SABO = 3\n",
    "print(type(_SABO))"
   ]
  },
  {
   "cell_type": "markdown",
   "id": "a22d286e-d6f8-4de9-86ed-ae4e4229c930",
   "metadata": {},
   "source": [
    "# 3) Explain  about Float with Example:"
   ]
  },
  {
   "cell_type": "markdown",
   "id": "5140d77a-78a1-4afa-b181-1f7448e5151b",
   "metadata": {},
   "source": [
    "This value is represented by the float class. It is a real number with a floating-point representation. It is specified by a decimal point. The character e or E followed by a positive or negative integer may be appended to specify scientific notation."
   ]
  },
  {
   "cell_type": "code",
   "execution_count": 42,
   "id": "56a53955-5fe0-4774-9613-fabd2d2117cc",
   "metadata": {},
   "outputs": [
    {
     "name": "stdout",
     "output_type": "stream",
     "text": [
      "7.6\n",
      "<class 'float'>\n"
     ]
    }
   ],
   "source": [
    "GRAP_ = 7.6\n",
    "print(GRAP_)\n",
    "print(type(GRAP_))"
   ]
  },
  {
   "cell_type": "code",
   "execution_count": 44,
   "id": "4b0f271e-a32e-45c6-b429-fb083e3f7902",
   "metadata": {},
   "outputs": [
    {
     "name": "stdout",
     "output_type": "stream",
     "text": [
      "<class 'float'>\n"
     ]
    }
   ],
   "source": [
    "_miKEY9 = 2.9\n",
    "print(type(_miKEY9))"
   ]
  },
  {
   "cell_type": "code",
   "execution_count": 46,
   "id": "de9b8f77-91c8-4202-a833-134f8352fe3f",
   "metadata": {},
   "outputs": [
    {
     "name": "stdout",
     "output_type": "stream",
     "text": [
      "<class 'float'>\n"
     ]
    }
   ],
   "source": [
    "takimichi3 = -4.8773\n",
    "print(type(takimichi3))"
   ]
  },
  {
   "cell_type": "markdown",
   "id": "67359db1-d50d-4030-bd21-3cc1b2a14ef2",
   "metadata": {},
   "source": [
    "# 4) Explain  about Complex with Example:"
   ]
  },
  {
   "cell_type": "markdown",
   "id": "d322a7c0-b162-4826-ad83-66a1e99992f4",
   "metadata": {},
   "source": [
    "A complex number is represented by a complex class. It is specified as (real part) + (imaginary part)j . If the string passed to this method is not a valid complex number, ValueError exception is raised."
   ]
  },
  {
   "cell_type": "code",
   "execution_count": 56,
   "id": "67761a57-5942-41bc-886d-b833e3a9dd4a",
   "metadata": {},
   "outputs": [
    {
     "name": "stdout",
     "output_type": "stream",
     "text": [
      "<class 'complex'>\n"
     ]
    }
   ],
   "source": [
    "_Rengoku = 9+8j\n",
    "print(type(_Rengoku))"
   ]
  },
  {
   "cell_type": "code",
   "execution_count": 58,
   "id": "a736f427-c614-4782-8168-1c48dab5ae3a",
   "metadata": {},
   "outputs": [
    {
     "name": "stdout",
     "output_type": "stream",
     "text": [
      "<class 'complex'>\n"
     ]
    }
   ],
   "source": [
    "TENGEN_Uzui_98 = -3-0j\n",
    "print(type(TENGEN_Uzui_98))"
   ]
  },
  {
   "cell_type": "code",
   "execution_count": 68,
   "id": "c7d0108f-e45d-41cc-8807-3a5709e6ec2d",
   "metadata": {},
   "outputs": [
    {
     "name": "stdout",
     "output_type": "stream",
     "text": [
      "<class 'complex'>\n"
     ]
    }
   ],
   "source": [
    "Ka_nae9 = 0j\n",
    "print(type(Ka_nae9))"
   ]
  },
  {
   "cell_type": "code",
   "execution_count": 72,
   "id": "3a904bb3-a4f8-4db7-91c6-33b226890e7c",
   "metadata": {},
   "outputs": [
    {
     "name": "stdout",
     "output_type": "stream",
     "text": [
      "<class 'complex'>\n"
     ]
    }
   ],
   "source": [
    "Shi7_nobu_ = -7*3j\n",
    "print(type(Shi7_nobu_))"
   ]
  },
  {
   "cell_type": "code",
   "execution_count": null,
   "id": "04d4631b-f302-4273-981c-8bc698daf14e",
   "metadata": {},
   "outputs": [],
   "source": []
  }
 ],
 "metadata": {
  "kernelspec": {
   "display_name": "Python 3 (ipykernel)",
   "language": "python",
   "name": "python3"
  },
  "language_info": {
   "codemirror_mode": {
    "name": "ipython",
    "version": 3
   },
   "file_extension": ".py",
   "mimetype": "text/x-python",
   "name": "python",
   "nbconvert_exporter": "python",
   "pygments_lexer": "ipython3",
   "version": "3.12.4"
  }
 },
 "nbformat": 4,
 "nbformat_minor": 5
}
