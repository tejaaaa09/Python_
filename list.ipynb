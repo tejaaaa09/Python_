{
 "cells": [
  {
   "cell_type": "markdown",
   "id": "3a50e7fa-6ece-4f26-9ab5-789b4710a41c",
   "metadata": {},
   "source": [
    "# 1) ABOUT LIST"
   ]
  },
  {
   "cell_type": "markdown",
   "id": "6df5d385-a321-4b64-a75d-fdc3955a6d0a",
   "metadata": {},
   "source": [
    "* Lists are used to store multiple items in a single variable.\n",
    "* List items are ordered, changeable, and allow duplicate values.\n",
    "* \r\n",
    "List items are indexed, the first item has index [0], the second item has index [1] e.\n",
    "* If you add new items to a list, the new items will be placed at the end of the list.\n",
    "*  The list is changeable, add, and remove items in a list after it has been created.\n",
    "*  To determine how many items a list has, use the len() function.\n",
    "*  List items can be of any data type.\r\n",
    "c."
   ]
  },
  {
   "cell_type": "code",
   "execution_count": 3,
   "id": "59bd2928-e588-49a0-a612-036621072620",
   "metadata": {},
   "outputs": [],
   "source": [
    "A = [ 4, 45, 8, 42, 3, 33 ]\n",
    "b = [ 2.3, 4.6, 4.7, 3.3,]\n",
    "C = [ 2+9j, 7+4j, 3+2j, 5-0j]\n",
    "mixed = [ 4, 5.6, 5-8j, 6]"
   ]
  },
  {
   "cell_type": "code",
   "execution_count": 13,
   "id": "4c509e1a-ebc3-41d4-ad57-ab5948042e02",
   "metadata": {},
   "outputs": [
    {
     "name": "stdout",
     "output_type": "stream",
     "text": [
      "45\n"
     ]
    }
   ],
   "source": [
    "print(A[1])"
   ]
  },
  {
   "cell_type": "code",
   "execution_count": 35,
   "id": "131f3c7b-ace1-4308-ad69-1dd1b07e2203",
   "metadata": {},
   "outputs": [
    {
     "name": "stdout",
     "output_type": "stream",
     "text": [
      "4.7\n",
      "5.4\n",
      "8\n",
      "6\n",
      "4\n",
      "(8+0j)\n",
      "7\n",
      "(4+7j)\n",
      "5\n",
      "9.9\n"
     ]
    }
   ],
   "source": [
    "num = [6, 7, 4.7, 4, 8-0j, 8, 5.4, 4+7j, 5, 9.9]\n",
    "print(num[2])\n",
    "print(num[6])\n",
    "print(num[5])\n",
    "print(num[0])\n",
    "print(num[3])\n",
    "print(num[4])\n",
    "print(num[1])\n",
    "print(num[7])\n",
    "print(num[8])\n",
    "print(num[9])"
   ]
  },
  {
   "cell_type": "code",
   "execution_count": 51,
   "id": "26947f3e-1b04-46d5-952b-1e9561ccf7a8",
   "metadata": {},
   "outputs": [
    {
     "name": "stdout",
     "output_type": "stream",
     "text": [
      "3\n",
      "4.7\n",
      "(4-9j)\n",
      "3\n",
      "3.3\n",
      "4\n",
      "(8-7j)\n",
      "5\n",
      "2.9\n",
      "4\n"
     ]
    }
   ],
   "source": [
    "luffy_ = [9, 2.4, 4+0j, 4, 2.9, 5, 8-7j, 4, 3.3, 3, 4-9j, 4.7, 3] \n",
    "print(luffy_[-1])\n",
    "print(luffy_[-2])\n",
    "print(luffy_[-3])\n",
    "print(luffy_[-4])\n",
    "print(luffy_[-5])\n",
    "print(luffy_[-6])\n",
    "print(luffy_[-7])\n",
    "print(luffy_[-8])\n",
    "print(luffy_[-9])\n",
    "print(luffy_[-10])"
   ]
  },
  {
   "cell_type": "code",
   "execution_count": 75,
   "id": "6fea68ae-dc30-4921-9b83-57c5284712a0",
   "metadata": {},
   "outputs": [
    {
     "name": "stdout",
     "output_type": "stream",
     "text": [
      "[4, 5.7, (2-6j), 7, 7.0, 8, 0.9, (34.5-7j), 7, 4.8, 3, 3.2, 3, (1-2.4j)]\n",
      "[7, 7.0, 8, 0.9, (34.5-7j), 7]\n",
      "[4]\n",
      "[4.8, 3, 3.2, 3]\n",
      "[4.8, 3, 3.2]\n",
      "[7, 7.0, 8, 0.9, (34.5-7j), 7, 4.8]\n",
      "[3, 3.2]\n",
      "[8, 0.9, (34.5-7j), 7, 4.8, 3, 3.2]\n"
     ]
    }
   ],
   "source": [
    "zoro9 = [ 4, 5.7, 2-6j, 7, 7.0, 8, 0.9, 34.5-7j, 7, 4.8, 3, 3.2, 3, 1-2.4j]\n",
    "print(zoro9[:])\n",
    "print(zoro9[3:9])\n",
    "print(zoro9[0:1])\n",
    "print(zoro9[9:-1])\n",
    "print(zoro9[-5:-2])\n",
    "print(zoro9[3:10])\n",
    "print(zoro9[-4:12])\n",
    "print(zoro9[-9:-2])"
   ]
  },
  {
   "cell_type": "code",
   "execution_count": 77,
   "id": "b8e7e730-2d3e-4caf-97f1-ea2ce958d972",
   "metadata": {},
   "outputs": [
    {
     "name": "stdout",
     "output_type": "stream",
     "text": [
      "[2.3, 5, 6, 3, 2, 4, (7+0j), 3, 3.4]\n"
     ]
    }
   ],
   "source": [
    "sanji = [2.3, 5, 6, 3, 2, 4]\n",
    "chopper_ = [7-0j, 3, 3.4]\n",
    "c = sanji+chopper_\n",
    "print(c)"
   ]
  },
  {
   "cell_type": "code",
   "execution_count": 79,
   "id": "4d445eac-b008-4ee7-bf93-091140d854fa",
   "metadata": {},
   "outputs": [
    {
     "name": "stdout",
     "output_type": "stream",
     "text": [
      "[3, 8, 4, 7, 3, 1, 2, 9, 3.4, 5.6, 3.8, 2.3]\n"
     ]
    }
   ],
   "source": [
    "s = [ 3, 8, 4, 7, 3, 1, 2, 9]\n",
    "j = [ 3.4, 5.6, 3.8, 2.3]\n",
    "print(s+j)"
   ]
  },
  {
   "cell_type": "code",
   "execution_count": 81,
   "id": "d4d7ee9d-7491-4272-a73d-06134c70c44b",
   "metadata": {},
   "outputs": [
    {
     "name": "stdout",
     "output_type": "stream",
     "text": [
      "[2.4, 6.3, 2, 4, 0.3, (3-9j), (2+2j), 4.6, 2.4]\n"
     ]
    }
   ],
   "source": [
    "itachi = [3-9j, 2+2j, 4.6, 2.4]\n",
    "sasuke9 = [2.4, 6.3, 2, 4, 0.3]\n",
    "print(sasuke9+itachi)"
   ]
  },
  {
   "cell_type": "code",
   "execution_count": 89,
   "id": "fe846b1d-e977-4e77-abf5-ce123f69afe0",
   "metadata": {},
   "outputs": [
    {
     "name": "stdout",
     "output_type": "stream",
     "text": [
      "[3, 2.3, 3j, 2.9, 3.7j, 2.7]\n"
     ]
    }
   ],
   "source": [
    "_NAruto = [3, 2.3, 3j, 2.9]\n",
    "kakshi_8 = [3.7j, 2.7]\n",
    "print(_NAruto+kakshi_8)"
   ]
  },
  {
   "cell_type": "code",
   "execution_count": 95,
   "id": "3b9e73fb-64c1-40c1-a21c-810671f50f01",
   "metadata": {},
   "outputs": [
    {
     "name": "stdout",
     "output_type": "stream",
     "text": [
      "[True, False, 3.5, 3]\n"
     ]
    }
   ],
   "source": [
    "bool_n = [True, False]\n",
    "d = [3.5, 3]\n",
    "print(bool_n + d)"
   ]
  },
  {
   "cell_type": "code",
   "execution_count": 97,
   "id": "07ff4868-8917-43c4-8b4a-874557388b2a",
   "metadata": {},
   "outputs": [
    {
     "name": "stdout",
     "output_type": "stream",
     "text": [
      "[3.5, 3, 3.5, 3, 3.5, 3, 3.5, 3, 3.5, 3, 3.5, 3, 3.5, 3, 3.5, 3]\n"
     ]
    }
   ],
   "source": [
    "c = d*8\n",
    "print(c)"
   ]
  },
  {
   "cell_type": "code",
   "execution_count": 99,
   "id": "6fb1163e-9326-42be-877c-a3491489ea34",
   "metadata": {},
   "outputs": [
    {
     "name": "stdout",
     "output_type": "stream",
     "text": [
      "[3.5, 3, 3.5, 3, 3.5, 3, 3.5, 3, 3.5, 3, 3.5, 3, 3.5, 3, 3.5, 3, 3.5, 3, 3.5, 3, 3.5, 3, 3.5, 3, 3.5, 3, 3.5, 3, 3.5, 3, 3.5, 3, 3.5, 3, 3.5, 3, 3.5, 3, 3.5, 3, 3.5, 3, 3.5, 3, 3.5, 3, 3.5, 3, 3.5, 3, 3.5, 3, 3.5, 3, 3.5, 3, 3.5, 3, 3.5, 3, 3.5, 3, 3.5, 3]\n"
     ]
    }
   ],
   "source": [
    "e = c*4\n",
    "print(e)"
   ]
  },
  {
   "cell_type": "code",
   "execution_count": 101,
   "id": "d2596d3d-3d78-4bbb-b467-1b468958a1ed",
   "metadata": {},
   "outputs": [
    {
     "name": "stdout",
     "output_type": "stream",
     "text": [
      "[3.5, 3, 3.5, 3, 3.5, 3, 3.5, 3, 3.5, 3, 3.5, 3, 3.5, 3, 3.5, 3, 3.5, 3, 3.5, 3, 3.5, 3, 3.5, 3, 3.5, 3, 3.5, 3, 3.5, 3, 3.5, 3, 3.5, 3, 3.5, 3, 3.5, 3, 3.5, 3, 3.5, 3, 3.5, 3, 3.5, 3, 3.5, 3, 3.5, 3, 3.5, 3, 3.5, 3, 3.5, 3, 3.5, 3, 3.5, 3, 3.5, 3, 3.5, 3]\n"
     ]
    }
   ],
   "source": [
    "p = e*1\n",
    "print(p)"
   ]
  },
  {
   "cell_type": "code",
   "execution_count": 103,
   "id": "0d836a3f-b5cc-40e7-94a0-764e8579d4ec",
   "metadata": {},
   "outputs": [
    {
     "name": "stdout",
     "output_type": "stream",
     "text": [
      "[3.5, 3, 3.5, 3, 3.5, 3, 3.5, 3, 3.5, 3, 3.5, 3, 3.5, 3, 3.5, 3, 3.5, 3, 3.5, 3, 3.5, 3, 3.5, 3, 3.5, 3, 3.5, 3, 3.5, 3, 3.5, 3, 3.5, 3, 3.5, 3, 3.5, 3, 3.5, 3, 3.5, 3, 3.5, 3, 3.5, 3, 3.5, 3, 3.5, 3, 3.5, 3, 3.5, 3, 3.5, 3, 3.5, 3, 3.5, 3, 3.5, 3, 3.5, 3, 3.5, 3, 3.5, 3, 3.5, 3, 3.5, 3, 3.5, 3, 3.5, 3, 3.5, 3, 3.5, 3, 3.5, 3, 3.5, 3, 3.5, 3, 3.5, 3, 3.5, 3, 3.5, 3, 3.5, 3, 3.5, 3, 3.5, 3, 3.5, 3, 3.5, 3, 3.5, 3, 3.5, 3, 3.5, 3, 3.5, 3, 3.5, 3, 3.5, 3, 3.5, 3, 3.5, 3, 3.5, 3, 3.5, 3, 3.5, 3, 3.5, 3, 3.5, 3]\n"
     ]
    }
   ],
   "source": [
    "r = 2*p\n",
    "print(r)"
   ]
  },
  {
   "cell_type": "code",
   "execution_count": 107,
   "id": "945a6863-f079-4def-9250-ed7a323a2448",
   "metadata": {},
   "outputs": [
    {
     "name": "stdout",
     "output_type": "stream",
     "text": [
      "[3.5, 3, 3.5, 3, 3.5, 3, 3.5, 3, 3.5, 3, 3.5, 3, 3.5, 3, 3.5, 3, 3.5, 3, 3.5, 3, 3.5, 3, 3.5, 3, 3.5, 3, 3.5, 3, 3.5, 3, 3.5, 3, 3.5, 3, 3.5, 3, 3.5, 3, 3.5, 3, 3.5, 3, 3.5, 3, 3.5, 3, 3.5, 3, 3.5, 3, 3.5, 3, 3.5, 3, 3.5, 3, 3.5, 3, 3.5, 3, 3.5, 3, 3.5, 3, 3.5, 3, 3.5, 3, 3.5, 3, 3.5, 3, 3.5, 3, 3.5, 3, 3.5, 3, 3.5, 3, 3.5, 3, 3.5, 3, 3.5, 3, 3.5, 3, 3.5, 3, 3.5, 3, 3.5, 3, 3.5, 3, 3.5, 3, 3.5, 3, 3.5, 3, 3.5, 3, 3.5, 3, 3.5, 3, 3.5, 3, 3.5, 3, 3.5, 3, 3.5, 3, 3.5, 3, 3.5, 3, 3.5, 3, 3.5, 3, 3.5, 3, 3.5, 3, 3.5, 3, 3.5, 3, 3.5, 3, 3.5, 3, 3.5, 3, 3.5, 3, 3.5, 3, 3.5, 3, 3.5, 3, 3.5, 3, 3.5, 3, 3.5, 3, 3.5, 3, 3.5, 3, 3.5, 3, 3.5, 3, 3.5, 3, 3.5, 3, 3.5, 3, 3.5, 3, 3.5, 3, 3.5, 3, 3.5, 3, 3.5, 3, 3.5, 3, 3.5, 3, 3.5, 3, 3.5, 3, 3.5, 3, 3.5, 3, 3.5, 3, 3.5, 3, 3.5, 3, 3.5, 3, 3.5, 3, 3.5, 3, 3.5, 3, 3.5, 3, 3.5, 3, 3.5, 3, 3.5, 3, 3.5, 3, 3.5, 3, 3.5, 3, 3.5, 3, 3.5, 3, 3.5, 3, 3.5, 3, 3.5, 3, 3.5, 3, 3.5, 3, 3.5, 3, 3.5, 3, 3.5, 3, 3.5, 3, 3.5, 3, 3.5, 3, 3.5, 3, 3.5, 3, 3.5, 3, 3.5, 3, 3.5, 3, 3.5, 3, 3.5, 3, 3.5, 3, 3.5, 3, 3.5, 3, 3.5, 3, 3.5, 3, 3.5, 3, 3.5, 3, 3.5, 3, 3.5, 3, 3.5, 3, 3.5, 3, 3.5, 3, 3.5, 3, 3.5, 3, 3.5, 3, 3.5, 3, 3.5, 3, 3.5, 3, 3.5, 3, 3.5, 3, 3.5, 3, 3.5, 3, 3.5, 3, 3.5, 3, 3.5, 3, 3.5, 3, 3.5, 3, 3.5, 3, 3.5, 3, 3.5, 3, 3.5, 3, 3.5, 3, 3.5, 3, 3.5, 3, 3.5, 3, 3.5, 3, 3.5, 3, 3.5, 3, 3.5, 3, 3.5, 3, 3.5, 3, 3.5, 3, 3.5, 3, 3.5, 3, 3.5, 3, 3.5, 3, 3.5, 3, 3.5, 3, 3.5, 3, 3.5, 3, 3.5, 3, 3.5, 3, 3.5, 3, 3.5, 3, 3.5, 3, 3.5, 3, 3.5, 3, 3.5, 3, 3.5, 3, 3.5, 3, 3.5, 3, 3.5, 3, 3.5, 3, 3.5, 3]\n"
     ]
    }
   ],
   "source": [
    "z = r*3\n",
    "print(z)"
   ]
  },
  {
   "cell_type": "code",
   "execution_count": 117,
   "id": "d548b049-02bb-42da-9d06-e64795dc6e2f",
   "metadata": {},
   "outputs": [
    {
     "name": "stdout",
     "output_type": "stream",
     "text": [
      "[2, 3.5, 'only', 3, (1+3.6j), 'choco', 'access']\n"
     ]
    }
   ],
   "source": [
    "pov = [2, 4.5, 6-9j, 2+2j, 4, \"LOCK\", \"access\"]\n",
    "pov[2] = \"only\"\n",
    "pov[3] = 3\n",
    "pov[4] = 1+3.6j\n",
    "pov[5] = \"choco\"\n",
    "pov[1] = 3.5\n",
    "print(pov)\n"
   ]
  },
  {
   "cell_type": "code",
   "execution_count": 123,
   "id": "c94ae5e7-4814-437b-93d9-4a442690b2fa",
   "metadata": {},
   "outputs": [
    {
     "name": "stdout",
     "output_type": "stream",
     "text": [
      "['itachi', 3, 4.5, True, 'SAkuna', 'gojo', 6, 4.6, 2.3, 4, (2-9j), True, 'SAkuna', 'gojo', 6, 4.6, 2.3, 4, (2-9j), True, 'SAkuna', 'gojo', 6, 4.6, 2.3, 4, (2-9j), True, 'SAkuna', 'gojo', 6, 4.6]\n"
     ]
    }
   ],
   "source": [
    "nami = [2.3, 4, 2-9j, True, \"SAkuna\"]\n",
    "robin = [\"gojo\", 6, 4.6]\n",
    "diary = nami+robin\n",
    "one_piece = diary*4\n",
    "one_piece[0:3] = \"itachi\", 3, 4.5\n",
    "print(one_piece)"
   ]
  },
  {
   "cell_type": "markdown",
   "id": "f019ce3b-531d-4d29-a90b-ef7f48fb173d",
   "metadata": {},
   "source": [
    "# Methods\n",
    "* append() - Adds an element at the end of the list\n",
    "* clear() - Removes all the elements from the list\n",
    "* copy() - Returns a copy of the list\n",
    "* count() - Returns the number of elements with the specified value\n",
    "* extend() - Add the elements of a list (or any iterable), to the end of the current list\n",
    "* index() - Returns the index of the first element with the specified value\n",
    "* insert() - Adds an element at the specified position\n",
    "* pop() - Removes the element at the specified position\n",
    "* remove() - Removes the first item with the specified value\n",
    "* reverse() - Reverses the order of the list\n",
    "* sort() - Sorts the list"
   ]
  },
  {
   "cell_type": "code",
   "execution_count": 145,
   "id": "f33fbe4a-ecf0-4014-b6cc-f06771337064",
   "metadata": {},
   "outputs": [
    {
     "name": "stdout",
     "output_type": "stream",
     "text": [
      "[3, 2.4, (3-7j), 98, True, 'book', '56']\n"
     ]
    }
   ],
   "source": [
    "alex = [3, 2.4, 3-7j, 98, True, \"book\"]\n",
    "alex.append(\"56\")\n",
    "print(alex)"
   ]
  },
  {
   "cell_type": "code",
   "execution_count": 155,
   "id": "79d96d01-3d5e-4f7a-aa06-3f9665b28711",
   "metadata": {},
   "outputs": [
    {
     "name": "stdout",
     "output_type": "stream",
     "text": [
      "[3, False, 4.5, (4+5j), 4, 6.7]\n"
     ]
    }
   ],
   "source": [
    "kaido = [ 3, False, 4.5, 4+5j]\n",
    "king = [4, 6.7]\n",
    "kaido.extend(king)\n",
    "print(kaido)"
   ]
  },
  {
   "cell_type": "code",
   "execution_count": 161,
   "id": "3bb635f4-e54c-4155-aad5-7a2f421f8c95",
   "metadata": {},
   "outputs": [
    {
     "name": "stdout",
     "output_type": "stream",
     "text": [
      "[]\n"
     ]
    }
   ],
   "source": [
    "num_ = [3-8j, 2, 4.6, 3, True]\n",
    "num_.clear()\n",
    "print(num_)"
   ]
  },
  {
   "cell_type": "code",
   "execution_count": 169,
   "id": "aae99394-87e0-4c4e-992a-19381558f375",
   "metadata": {},
   "outputs": [
    {
     "name": "stdout",
     "output_type": "stream",
     "text": [
      "[5, 3.5, (3-8j), False]\n"
     ]
    }
   ],
   "source": [
    "t = [5, 3.5, 3-8j, False]\n",
    "t.copy()\n",
    "print(t)"
   ]
  },
  {
   "cell_type": "code",
   "execution_count": 175,
   "id": "d8894f23-83fb-4b78-924c-9dbbe5ca0bb4",
   "metadata": {},
   "outputs": [
    {
     "name": "stdout",
     "output_type": "stream",
     "text": [
      "9\n"
     ]
    }
   ],
   "source": [
    "z = [4, 5, 34, 3, 4, 4, 4, 4, 4, 4, 4, 4]\n",
    "x=z.count(4)\n",
    "print(x)"
   ]
  },
  {
   "cell_type": "code",
   "execution_count": 179,
   "id": "067b71f5-1817-4699-a56e-4c6a2386e343",
   "metadata": {},
   "outputs": [
    {
     "name": "stdout",
     "output_type": "stream",
     "text": [
      "1\n"
     ]
    }
   ],
   "source": [
    "c = [ 4.5, 3, 7-8j, True, 23]\n",
    "n= c.index(3)\n",
    "print(n)"
   ]
  },
  {
   "cell_type": "code",
   "execution_count": 187,
   "id": "7ff504df-d238-4891-bd35-ace0916e9d91",
   "metadata": {},
   "outputs": [
    {
     "name": "stdout",
     "output_type": "stream",
     "text": [
      "[5, 3.5, (9+0j), 'rocky', 'ox']\n"
     ]
    }
   ],
   "source": [
    "m = [5, 3.5, 9-0j, \"rocky\"]\n",
    "m.insert(4,\"ox\")\n",
    "print(m)"
   ]
  },
  {
   "cell_type": "code",
   "execution_count": 215,
   "id": "1254987e-e7df-4eba-b32c-f2439fd02e4b",
   "metadata": {},
   "outputs": [
    {
     "name": "stdout",
     "output_type": "stream",
     "text": [
      "[34, False, (7+9j), 'Look']\n"
     ]
    }
   ],
   "source": [
    "v = [34, 6.8, False, 7+9j, \"Look\"]\n",
    "v.pop(1)\n",
    "print(v)"
   ]
  },
  {
   "cell_type": "code",
   "execution_count": 217,
   "id": "16122044-b463-4242-8053-c5bd9424219b",
   "metadata": {},
   "outputs": [
    {
     "name": "stdout",
     "output_type": "stream",
     "text": [
      "[3, 'Monkey', 9.0, 4]\n"
     ]
    }
   ],
   "source": [
    "b = [3, 5.6, \"Monkey\", 9.0, 4]\n",
    "b.remove(5.6)\n",
    "print(b)"
   ]
  },
  {
   "cell_type": "code",
   "execution_count": 219,
   "id": "3bdc911e-55ae-4f82-af02-446a2575420a",
   "metadata": {},
   "outputs": [
    {
     "name": "stdout",
     "output_type": "stream",
     "text": [
      "[4, 9.0, 'Monkey', 3]\n"
     ]
    }
   ],
   "source": [
    "b.reverse()\n",
    "print(b)"
   ]
  },
  {
   "cell_type": "code",
   "execution_count": 229,
   "id": "b12eb30d-7593-4790-ab45-cbe5f01d8601",
   "metadata": {},
   "outputs": [
    {
     "name": "stdout",
     "output_type": "stream",
     "text": [
      "[0, 2, 4, 5, 6, 6, 7, 9]\n"
     ]
    }
   ],
   "source": [
    "g = [ 4, 5, 2, 6, 6, 7, 9, 0]\n",
    "g.sort()\n",
    "print(g)"
   ]
  },
  {
   "cell_type": "code",
   "execution_count": 231,
   "id": "0426842f-f65c-4ff7-92a8-31c01d2fa411",
   "metadata": {},
   "outputs": [
    {
     "name": "stdout",
     "output_type": "stream",
     "text": [
      "[9, 7, 6, 6, 5, 4, 2, 0]\n"
     ]
    }
   ],
   "source": [
    "g.sort(reverse = True)\n",
    "print(g)"
   ]
  },
  {
   "cell_type": "code",
   "execution_count": 245,
   "id": "b357144d-3b54-45f8-b1e0-23be5d7bdddf",
   "metadata": {},
   "outputs": [
    {
     "name": "stdout",
     "output_type": "stream",
     "text": [
      "['a', 'oj', 'fkk', 'djjf', 'aSKK', 'AJKKK', 'GHSKS']\n"
     ]
    }
   ],
   "source": [
    "h = [\"a\", \"djjf\", \"fkk\", \"AJKKK\", \"GHSKS\", \"aSKK\", \"oj\"]\n",
    "h.sort(key = len)\n",
    "print(h)"
   ]
  },
  {
   "cell_type": "code",
   "execution_count": null,
   "id": "3d1cc3a0-05d3-40b8-b387-6cc3e2289788",
   "metadata": {},
   "outputs": [],
   "source": []
  }
 ],
 "metadata": {
  "kernelspec": {
   "display_name": "Python 3 (ipykernel)",
   "language": "python",
   "name": "python3"
  },
  "language_info": {
   "codemirror_mode": {
    "name": "ipython",
    "version": 3
   },
   "file_extension": ".py",
   "mimetype": "text/x-python",
   "name": "python",
   "nbconvert_exporter": "python",
   "pygments_lexer": "ipython3",
   "version": "3.12.4"
  }
 },
 "nbformat": 4,
 "nbformat_minor": 5
}
