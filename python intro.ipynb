{
 "cells": [
  {
   "cell_type": "markdown",
   "id": "f69045a2-f6a1-4066-a22c-377895a2052d",
   "metadata": {},
   "source": [
    "# 1) what is python"
   ]
  },
  {
   "cell_type": "markdown",
   "id": "19abf8b7-3bf9-44e5-8997-5c8a163f3cd9",
   "metadata": {},
   "source": [
    "1) Python is an interpreted, Object-Oriented, high-level programing language.\n",
    "2) Python is an open-source programming language.\n",
    "3) Python is a programming language that lets you work quickly and integrate systems more effectively."
   ]
  },
  {
   "cell_type": "markdown",
   "id": "aa4cb3c3-8b33-48da-93e8-a78889660b77",
   "metadata": {},
   "source": [
    "# 2) History of python"
   ]
  },
  {
   "cell_type": "markdown",
   "id": "41055325-37bd-4f06-a141-70ba7ae3d13d",
   "metadata": {},
   "source": [
    "1.It was created by Guido van Rossum.\n",
    "2.It was released in 1991.\n",
    "3.The inspiration for the name came from the BBC TV Show- \"Monty Python's Flying Circus\".\n",
    "4.he used to work for Google, but currently, he is working at Dropbox."
   ]
  },
  {
   "cell_type": "markdown",
   "id": "7f60fa08-9ac5-4abc-91ca-508f1b77c725",
   "metadata": {},
   "source": [
    "# 3) Why we need to use Python?"
   ]
  },
  {
   "cell_type": "markdown",
   "id": "13ed6315-2222-4eb2-9918-68a5e6e91ce9",
   "metadata": {},
   "source": [
    "1. Python is commonly used for developing websites and software, task automation, data analysis, and data visualisation.\n",
    "2. Python is an easy language to master.\n",
    "3. Back end, we would often opt for Python. For these purposes, Python is used for some common frameworks (like Django or Flask) with specialized built-in modules that enable sharing data with servers, processing information, accessing databases, URL routing, content management, and maintaining website security."
   ]
  },
  {
   "cell_type": "markdown",
   "id": "c3d80cab-58db-417f-bd05-c14eddc56145",
   "metadata": {},
   "source": [
    "# 4) Application of python"
   ]
  },
  {
   "cell_type": "markdown",
   "id": "fbb02727-c445-4d0a-93c5-f12964f50033",
   "metadata": {},
   "source": [
    "1. Battlefield 2 - to create tools to make specific chores easier, such as level design or dialogue tree construction.\n",
    "2. Operating system - Writing scripts to automate backups, manage user accounts, or monitor system performance.\n",
    "3. AI -  Frameworks like TensorFlow, PyTorch, and scikit-learn provide tools for building and training machine learning models, neural networks, and deep learning algorithms.\n",
    "4. graphical user interface - GUI applications using libraries like Tkinter, PyQt, and wxPython. These libraries provide tools for creating windows, dialogs, buttons, and other GUI components."
   ]
  },
  {
   "cell_type": "markdown",
   "id": "ece958aa-f5e3-4292-92c0-4fb0e73659d1",
   "metadata": {},
   "source": [
    "# 5)explain about keywords and implementation"
   ]
  },
  {
   "cell_type": "markdown",
   "id": "d02dd4d0-b093-45d4-b7a8-052b682560ca",
   "metadata": {},
   "source": [
    "1. A Python keyword is a word that serves a specific function in Python. The purpose of the keyword is to define the syntax of the code.\n",
    "2. The keyword cannot be used as an identifier or variable name. All the keywords in Python are written in lowercase except True and False.\n",
    "3. And - This is a logical operator which returns true if both the operands are true else returns false.\n",
    "4. or - This is also a logical operator which returns true if anyone operand is true else returns false.\n",
    "5. not - This is again a logical operator it returns True if the operand is false else returns false.\n",
    "6. if - This is used to make a conditional statement.\n",
    "7. elif - Elif is a condition statement used with an if statement. The elif statement is executed if the previous conditions were not true.\n",
    "8. else - Else is used with if and elif conditional statements. The else block is executed if the given condition is not true.\n",
    "9. for - This is used to create a loop.\n",
    "10. while - This keyword is used to create a while loop.\n",
    "11. break - This is used to terminate the loop.\n",
    "12. as - This is used to create an alternative.\n",
    "13. def - It helps us to define functions.\n",
    "14. lambda - It is used to define the anonymous function.\n",
    "15. pass - This is a null statement which means it will do nothing.\n",
    "16. return - It will return a value and exit the function.\n",
    "17. True - This is a boolean value.\n",
    "18. False - This is also a boolean value.\n",
    "19. try - It makes a try-except statement.\n",
    "20. with - The with keyword is used to simplify exception handling.\n",
    "21. assert - This function is used for debugging purposes. Usually used to check the correctness of code.\n",
    "22. class - It helps us to define a class.\n",
    "23. continue - It continues to the next iteration of a loop.\n",
    "24. del - It deletes a reference to an object.\n",
    "25. except - Used with exceptions, what to do when an exception occurs.\n",
    "26. finally - Finally is used with exceptions, a block of code that will be executed no matter if there is an exception or not.\n",
    "27. from - \tIt is used to import specific parts of any module.\n",
    "28. global - This declares a global variable.\n",
    "29. import - This is used to import a module.\n",
    "30. in - It’s used to check whether a value is present in a list, range, tuple, etc.\n",
    "31. is - This is used to check if the two variables are equal or not.\n",
    "32. none - This is a special constant used to denote a null value or avoid.\n",
    "33. nonlocal - It’s declared a non-local variable.\n",
    "34. raise - This raises an exception.\n",
    "35. yield - It ends a function and returns a generator.\n",
    "36. async - It is used to create asynchronous coroutine.\n",
    "37. await - It releases the flow of control back to the event loop.\n",
    "vent loop."
   ]
  },
  {
   "cell_type": "markdown",
   "id": "229791f5-3729-46fa-997c-0e2ca02cc56e",
   "metadata": {},
   "source": [
    "# 6) explain about comments"
   ]
  },
  {
   "cell_type": "markdown",
   "id": "7c2815e8-f52e-490e-b21a-88211a70a2de",
   "metadata": {},
   "source": [
    "Comments in Python is the inclusion of short descriptions along with the code to increase its readability. A developer uses them to write his or her thought process while writing the code. It explains the basic logic behind why a particular line of code was written\n",
    "1. Single-Line Comments - Single-line comments begin with the “#” character.\n",
    "example : #code\n",
    "2. Multi-Line Comments - Use a single (‘’) quotation or double (“”) quotation.\n",
    "3. String Literals - utilized as comments in classes or functions, especially regarding documentation.\n"
   ]
  },
  {
   "cell_type": "markdown",
   "id": "d95fe0fc-7882-46cf-95aa-e35b89bb4acd",
   "metadata": {},
   "source": [
    "# 7) Explain about variable"
   ]
  },
  {
   "cell_type": "markdown",
   "id": "09390840-1fe3-46aa-ac06-d01fff94fac7",
   "metadata": {},
   "source": [
    "Python Variable is containers that store values. Python has no command for declaring a variable. \r\n",
    "A variable is created the moment you first assign a value to i \r\n",
    "Since Python is an infer language that is smart enough to determine the type of a variable, we do not need to specify its type in Pyth.\n",
    "RULES: \n",
    "1. A Python variable name must start with a letter or the underscore character.\n",
    "2. A Python variable name cannot start with a number.\n",
    "3. A Python variable name can only contain alpha-numeric characters and underscores (A-z, 0-9, and _ ).\n",
    "4. Variable in Python names are case-sensitive (name, Name, and NAME are three different variables).\n",
    "5. The reserved words(keywords) in Python cannot be used to name the variable in Python.n.t."
   ]
  },
  {
   "cell_type": "code",
   "execution_count": 23,
   "id": "801b66fa-e73c-45ac-993c-72f9b22c7b8d",
   "metadata": {},
   "outputs": [],
   "source": [
    "CODE = 1"
   ]
  },
  {
   "cell_type": "code",
   "execution_count": 25,
   "id": "7fb588bf-4bbc-481c-9e98-c780171e6ef1",
   "metadata": {},
   "outputs": [],
   "source": [
    "code = 2"
   ]
  },
  {
   "cell_type": "code",
   "execution_count": 27,
   "id": "f737c695-1d9e-4e97-a07a-5ed5c8d90fb1",
   "metadata": {},
   "outputs": [],
   "source": [
    "_code = 3"
   ]
  },
  {
   "cell_type": "code",
   "execution_count": 29,
   "id": "2da3f7e1-6c11-470b-8e65-9c827af8cd0b",
   "metadata": {},
   "outputs": [
    {
     "ename": "SyntaxError",
     "evalue": "invalid syntax (1923393409.py, line 1)",
     "output_type": "error",
     "traceback": [
      "\u001b[1;36m  Cell \u001b[1;32mIn[29], line 1\u001b[1;36m\u001b[0m\n\u001b[1;33m    code 1 = 4\u001b[0m\n\u001b[1;37m         ^\u001b[0m\n\u001b[1;31mSyntaxError\u001b[0m\u001b[1;31m:\u001b[0m invalid syntax\n"
     ]
    }
   ],
   "source": [
    "code 1 = 4"
   ]
  },
  {
   "cell_type": "code",
   "execution_count": 31,
   "id": "2d82d88e-c7c8-4beb-9eb8-4bc2faa01d73",
   "metadata": {},
   "outputs": [],
   "source": [
    "code_1 = 5"
   ]
  },
  {
   "cell_type": "code",
   "execution_count": 33,
   "id": "ba142c67-eb2b-4e8b-bb83-b3c015cce9c7",
   "metadata": {},
   "outputs": [
    {
     "ename": "SyntaxError",
     "evalue": "invalid decimal literal (1824057106.py, line 1)",
     "output_type": "error",
     "traceback": [
      "\u001b[1;36m  Cell \u001b[1;32mIn[33], line 1\u001b[1;36m\u001b[0m\n\u001b[1;33m    1code = 6\u001b[0m\n\u001b[1;37m    ^\u001b[0m\n\u001b[1;31mSyntaxError\u001b[0m\u001b[1;31m:\u001b[0m invalid decimal literal\n"
     ]
    }
   ],
   "source": [
    "1code = 6"
   ]
  },
  {
   "cell_type": "code",
   "execution_count": 35,
   "id": "9a6d31af-1d4f-45f8-b2e5-0a917f167009",
   "metadata": {},
   "outputs": [
    {
     "ename": "SyntaxError",
     "evalue": "invalid syntax. Maybe you meant '==' or ':=' instead of '='? (1410672820.py, line 1)",
     "output_type": "error",
     "traceback": [
      "\u001b[1;36m  Cell \u001b[1;32mIn[35], line 1\u001b[1;36m\u001b[0m\n\u001b[1;33m    @code = 7\u001b[0m\n\u001b[1;37m     ^\u001b[0m\n\u001b[1;31mSyntaxError\u001b[0m\u001b[1;31m:\u001b[0m invalid syntax. Maybe you meant '==' or ':=' instead of '='?\n"
     ]
    }
   ],
   "source": [
    "@code = 7"
   ]
  },
  {
   "cell_type": "code",
   "execution_count": 37,
   "id": "97a0551b-b1e2-4a2f-a714-58337f98428d",
   "metadata": {},
   "outputs": [
    {
     "ename": "SyntaxError",
     "evalue": "invalid syntax (723260631.py, line 1)",
     "output_type": "error",
     "traceback": [
      "\u001b[1;36m  Cell \u001b[1;32mIn[37], line 1\u001b[1;36m\u001b[0m\n\u001b[1;33m    and = 8\u001b[0m\n\u001b[1;37m    ^\u001b[0m\n\u001b[1;31mSyntaxError\u001b[0m\u001b[1;31m:\u001b[0m invalid syntax\n"
     ]
    }
   ],
   "source": [
    "and = 8"
   ]
  },
  {
   "cell_type": "code",
   "execution_count": null,
   "id": "f4e343e1-358e-42ae-ad0a-492116268682",
   "metadata": {},
   "outputs": [],
   "source": []
  }
 ],
 "metadata": {
  "kernelspec": {
   "display_name": "Python 3 (ipykernel)",
   "language": "python",
   "name": "python3"
  },
  "language_info": {
   "codemirror_mode": {
    "name": "ipython",
    "version": 3
   },
   "file_extension": ".py",
   "mimetype": "text/x-python",
   "name": "python",
   "nbconvert_exporter": "python",
   "pygments_lexer": "ipython3",
   "version": "3.12.4"
  }
 },
 "nbformat": 4,
 "nbformat_minor": 5
}
