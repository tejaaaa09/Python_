{
 "cells": [
  {
   "cell_type": "markdown",
   "id": "e77fc3f6-aa5c-412f-aa8e-7c9c03d4cb8c",
   "metadata": {},
   "source": [
    "# 1) Strings\n",
    "A String is a data structure in Python Programming that represents a sequence of characters. It is an immutable data type, meaning that once you have created a string, you cannot change it. Python String are used widely in many different applications, such as storing and manipulating text data, representing names, addresses, and other types of data that can be represented as text. Strings in Python can be created using single quotes or double quotes or even triple quotes. \"."
   ]
  },
  {
   "cell_type": "code",
   "execution_count": 27,
   "id": "fdc8d152-cea9-42a6-aeb0-1fff935fd2be",
   "metadata": {},
   "outputs": [
    {
     "name": "stdout",
     "output_type": "stream",
     "text": [
      "<class 'str'>\n",
      "<class 'str'>\n",
      "<class 'str'>\n",
      "<class 'str'>\n",
      "<class 'str'>\n",
      "<class 'str'>\n",
      "<class 'str'>\n",
      "<class 'str'>\n",
      "<class 'str'>\n",
      "<class 'str'>\n",
      "<class 'str'>\n",
      "text data ADDRESS\n",
      "As a result of the example above,\n",
      " the list will now contain 4 items \n",
      "As a result of the example above,\n",
      " the list will now contain 4 items \n",
      "As a result of the example above,\n",
      " the list will now contain 4 items \n",
      "As a result of the example above,\n",
      " the list will now contain 4 items \n",
      "As a result of the example above,\n",
      " the list will now contain 4 items \n",
      "As a result of the example above,\n",
      " the list will now contain 4 items \n",
      "\n"
     ]
    }
   ],
   "source": [
    "a='9'\n",
    "b='8.9'\n",
    "c='3-9j'\n",
    "vit='78'\n",
    "VIT = '566.9'\n",
    "point_ = \"65\"\n",
    "_9luffy = \"@\"\n",
    "can_be = \"using\"\n",
    "repr_78 = \"text data\"\n",
    "WI_DE = \"ADDRESS\"\n",
    "HOST_ = '''function that returns the length of a string'''\n",
    "_HOME = '''As a result of the example above,\\n the list will now contain 4 items \\n'''\n",
    "print(type(b))\n",
    "print(type(c))\n",
    "print(type(a))\n",
    "print(type(vit))\n",
    "print(type(VIT))\n",
    "print(type(point_))\n",
    "print(type(_9luffy))\n",
    "print(type(can_be))\n",
    "print(type(repr_78))\n",
    "print(type(WI_DE))\n",
    "print(type(HOST_))\n",
    "print(repr_78+\" \"+WI_DE)\n",
    "print((_HOME)*6)"
   ]
  },
  {
   "cell_type": "markdown",
   "id": "d66f4999-2545-48b6-81ed-b3f184e8e68f",
   "metadata": {},
   "source": [
    "# ACCESS AND SLICING"
   ]
  },
  {
   "cell_type": "code",
   "execution_count": 35,
   "id": "b721f0a2-f108-4cd4-b6a7-88f018bccc1f",
   "metadata": {},
   "outputs": [
    {
     "name": "stdout",
     "output_type": "stream",
     "text": [
      "NASA traces its roots to the National Advisory Com\n",
      "S\n",
      "g the birthplace of aviation, by 1914 the United States recognize\n",
      "d\n",
      "e\n",
      "a\n"
     ]
    }
   ],
   "source": [
    "NUM_ = \"NASA traces its roots to the National Advisory Committee for Aeronautics. Despite being the birthplace of aviation, by 1914 the United States recognized.\"\n",
    "print(NUM_[0:50])\n",
    "print(NUM_[2])\n",
    "print(NUM_[-67:-2])\n",
    "print(NUM_[-20])\n",
    "print(NUM_[-99])\n",
    "print(NUM_[99])"
   ]
  },
  {
   "cell_type": "markdown",
   "id": "cf2a697a-3865-4a7c-9d80-8de0e7f5cdbf",
   "metadata": {},
   "source": [
    "# String Formatting \n",
    "There are five different ways to perform string formatting in Python \n",
    "* Formatting with % Operator.\n",
    "* Formatting with format() string method.\n",
    "* Formatting with string literals, called f-strings.\n",
    "* Formatting with String Template Class.\n",
    "* Formatting with center() string method."
   ]
  },
  {
   "cell_type": "markdown",
   "id": "af71a118-e360-4964-a313-d222c480b4b1",
   "metadata": {},
   "source": [
    "# Formatting with % Operator\n",
    "It is the oldest method of string formatting. Here we use the modulo % operator. The modulo % is also known as the “string-formatting operator”."
   ]
  },
  {
   "cell_type": "code",
   "execution_count": 7,
   "id": "f652c94a-851e-4b6d-8d50-901735fd401d",
   "metadata": {},
   "outputs": [
    {
     "name": "stdout",
     "output_type": "stream",
     "text": [
      "MONKEY.D.LUFFY Going To Become King Of The Pirates.\n"
     ]
    }
   ],
   "source": [
    "x = \"MONKEY.D.LUFFY\"\n",
    "Y = \"King Of The Pirates\"\n",
    "Z = \"%s Going To Become %s.\" %(x,Y)\n",
    "print(Z)"
   ]
  },
  {
   "cell_type": "markdown",
   "id": "25aad0a9-3785-4a14-983f-d4a9d8e95dd4",
   "metadata": {},
   "source": [
    "# Formatting with format() string method.\n",
    "Format() method was introduced with Python3 for handling complex string formatting more efficiently.\n",
    "Formatters work by putting in one or more replacement fields and placeholders defined by a pair of curly braces { } into a string and calling the str.format(). The value we wish to put into the placeholders and concatenate with the string passed as parameters into the format function. \n",
    "Syntax: ‘String here {} then also {}’.format(‘something1′,’something2’)"
   ]
  },
  {
   "cell_type": "code",
   "execution_count": 13,
   "id": "dbc7fcaa-5f08-4ea3-beb9-616e8dfb622e",
   "metadata": {},
   "outputs": [
    {
     "name": "stdout",
     "output_type": "stream",
     "text": [
      "Roronoa Zoro also known as Pirate Hunter.\n"
     ]
    }
   ],
   "source": [
    "C = \"Roronoa Zoro\"\n",
    "B = \"Pirate Hunter\"\n",
    "n = \"{} also known as {}.\".format(C,B)\n",
    "print(n)"
   ]
  },
  {
   "cell_type": "markdown",
   "id": "fd4a38a2-c132-4a65-95b3-882b36c96680",
   "metadata": {},
   "source": [
    "# String Formatting with F-Strings:\n",
    "PEP 498 introduced a new string formatting mechanism known as Literal String Interpolation or more commonly as F-strings. The idea behind f-String in Python is to make string interpolation simpler.\n",
    "To create an f-string in Python, prefix the string with the letter “f”. The string itself can be formatted in much the same way that you would with str. format(). F-strings provide a concise and convenient way to embed Python expressions inside string literals for formatting.\n",
    "In this code, the f-string f”My name is {name}.” is used to interpolate the value of the name variable into the string."
   ]
  },
  {
   "cell_type": "code",
   "execution_count": 34,
   "id": "8dc27b51-76f8-48b0-aac7-ee8a21e350e9",
   "metadata": {},
   "outputs": [
    {
     "name": "stdout",
     "output_type": "stream",
     "text": [
      "Sanji also wanted to eat theSuke Suke no Mi.\n"
     ]
    }
   ],
   "source": [
    "name = \"Sanji\"\n",
    "k = \"eat\"\n",
    "Devil_Fruit = \"Suke Suke no Mi\"\n",
    "p =f\"{name} also wanted to {k} the{Devil_Fruit}.\"\n",
    "print(p)"
   ]
  },
  {
   "cell_type": "markdown",
   "id": "3f9f30f6-0434-4a45-b895-304fd4ddee83",
   "metadata": {},
   "source": [
    "# OPERATIONS"
   ]
  },
  {
   "cell_type": "code",
   "execution_count": 69,
   "id": "70f96626-31fb-454e-b11a-1ce919ce3b67",
   "metadata": {},
   "outputs": [
    {
     "name": "stdout",
     "output_type": "stream",
     "text": [
      "Roronoa Zorodream is to become theworld's greatest swordsman \n",
      "Roronoa Zorodream is to become theworld's greatest swordsman \n",
      "Roronoa Zorodream is to become theworld's greatest swordsman \n",
      "Roronoa Zorodream is to become theworld's greatest swordsman \n",
      "Roronoa Zorodream is to become theworld's greatest swordsman \n",
      "Roronoa Zorodream is to become theworld's greatest swordsman \n",
      "Roronoa Zorodream is to become theworld's greatest swordsman \n",
      "Roronoa Zorodream is to become theworld's greatest swordsman \n",
      "Roronoa Zorodream is to become theworld's greatest swordsman \n",
      "\n"
     ]
    }
   ],
   "source": [
    "NAME, vr__, _var= \"Roronoa Zoro\", \"dream is to become the\", \"world's greatest swordsman \\n\"\n",
    "str = NAME_ + vr_ + _var\n",
    "print(str*9)"
   ]
  },
  {
   "cell_type": "markdown",
   "id": "719339ee-9d10-4a47-9c0d-a44c493cee3d",
   "metadata": {},
   "source": [
    "# String Methods\n",
    "* capitalize():\tConverts the first character to upper case\n",
    "* casefold():\tConverts string into lower case\n",
    "* center():\tReturns a centered string\n",
    "* count():\tReturns the number of times a specified value occurs in a string\n",
    "* encode():\tReturns an encoded version of the string\n",
    "* endswith():\tReturns true if the string ends with the specified value\n",
    "* expandtabs():\tSets the tab size of the string\n",
    "* find():\tSearches the string for a specified value and returns the position of where it was found\n",
    "* format():\tFormats specified values in a string\n",
    "* format_map():\tFormats specified values in a string\n",
    "* index():\tSearches the string for a specified value and returns the position of where it was found\n",
    "* isalnum():\tReturns True if all characters in the string are alphanumeric\n",
    "* isalpha():\tReturns True if all characters in the string are in the alphabet\n",
    "* isascii():\tReturns True if all characters in the string are ascii characters\n",
    "* isdecimal():\tReturns True if all characters in the string are decimals\n",
    "* isdigit():\tReturns True if all characters in the string are digits\n",
    "* isidentifier():\tReturns True if the string is an identifier\n",
    "* islower():\tReturns True if all characters in the string are lower case\n",
    "* isnumeric():\tReturns True if all characters in the string are numeric\n",
    "* isprintable():\tReturns True if all characters in the string are printable\n",
    "* isspace():\tReturns True if all characters in the string are whitespaces\n",
    "* istitle():\tReturns True if the string follows the rules of a title\n",
    "* isupper():\tReturns True if all characters in the string are upper case\n",
    "* join():\tConverts the elements of an iterable into a string\n",
    "* ljust():\tReturns a left justified version of the string\n",
    "* lower():\tConverts a string into lower case\n",
    "* lstrip():\tReturns a left trim version of the string\n",
    "* maketrans():\tReturns a translation table to be used in translations\n",
    "* partition():\tReturns a tuple where the string is parted into three parts\n",
    "* replace():\tReturns a string where a specified value is replaced with a specified value\n",
    "* rfind():\tSearches the string for a specified value and returns the last position of where it was found\n",
    "* rindex():\tSearches the string for a specified value and returns the last position of where it was found\n",
    "* rjust():\tReturns a right justified version of the string\n",
    "* rpartition():\tReturns a tuple where the string is parted into three parts\n",
    "* rsplit():\tSplits the string at the specified separator, and returns a list\n",
    "* rstrip():\tReturns a right trim version of the string\n",
    "* split():\tSplits the string at the specified separator, and returns a list\n",
    "* splitlines():\tSplits the string at line breaks and returns a list\n",
    "* startswith():\tReturns true if the string starts with the specified value\n",
    "* strip():\tReturns a trimmed version of the string\n",
    "* swapcase():\tSwaps cases, lower case becomes upper case and vice versa\n",
    "* title():\tConverts the first character of each word to upper case\n",
    "* translate():\tReturns a translated string\n",
    "* upper():\tConverts a string into upper case\n",
    "* zfill():\tFills the string with a specified number of 0 values at the beginning"
   ]
  },
  {
   "cell_type": "code",
   "execution_count": 75,
   "id": "a8e35f36-bdb6-48f3-b7aa-64ce7a3a0129",
   "metadata": {},
   "outputs": [
    {
     "name": "stdout",
     "output_type": "stream",
     "text": [
      "Specified\n"
     ]
    }
   ],
   "source": [
    "a = 'specified'\n",
    "x = a.capitalize()\n",
    "print(x)"
   ]
  },
  {
   "cell_type": "code",
   "execution_count": 79,
   "id": "86b13d30-2457-48ac-8fbb-a1b9ef15a857",
   "metadata": {},
   "outputs": [
    {
     "name": "stdout",
     "output_type": "stream",
     "text": [
      "values\n"
     ]
    }
   ],
   "source": [
    "b = \"VALUES\"\n",
    "X = b.casefold()\n",
    "print(X)"
   ]
  },
  {
   "cell_type": "code",
   "execution_count": 97,
   "id": "99a0de6a-56dd-46fb-b719-bd12288f279b",
   "metadata": {},
   "outputs": [
    {
     "name": "stdout",
     "output_type": "stream",
     "text": [
      "                                          luffy  specified                                          \n"
     ]
    }
   ],
   "source": [
    "c = \"luffy  specified\" \n",
    "we = c.center(100)\n",
    "print(we)"
   ]
  },
  {
   "cell_type": "code",
   "execution_count": 124,
   "id": "af3db615-d1f8-4d9d-b918-b9314cc268d2",
   "metadata": {},
   "outputs": [
    {
     "name": "stdout",
     "output_type": "stream",
     "text": [
      "1\n"
     ]
    }
   ],
   "source": [
    "d_ = (\"joy\", \"rock\", \"joke\")\n",
    "v_ = d_.count(\"joy\")\n",
    "print(v_)"
   ]
  },
  {
   "cell_type": "code",
   "execution_count": 134,
   "id": "1725d3b5-7294-4814-9791-c3f5dd2191c8",
   "metadata": {},
   "outputs": [
    {
     "name": "stdout",
     "output_type": "stream",
     "text": [
      "b'MONKEY.D.LUFFY Going To Become King Of The Pirates.'\n"
     ]
    }
   ],
   "source": [
    "z = Z.encode()\n",
    "print(z)"
   ]
  },
  {
   "cell_type": "code",
   "execution_count": null,
   "id": "ab393185-e201-4ee1-912d-020c9af5c31f",
   "metadata": {},
   "outputs": [],
   "source": []
  }
 ],
 "metadata": {
  "kernelspec": {
   "display_name": "Python 3 (ipykernel)",
   "language": "python",
   "name": "python3"
  },
  "language_info": {
   "codemirror_mode": {
    "name": "ipython",
    "version": 3
   },
   "file_extension": ".py",
   "mimetype": "text/x-python",
   "name": "python",
   "nbconvert_exporter": "python",
   "pygments_lexer": "ipython3",
   "version": "3.12.4"
  }
 },
 "nbformat": 4,
 "nbformat_minor": 5
}
